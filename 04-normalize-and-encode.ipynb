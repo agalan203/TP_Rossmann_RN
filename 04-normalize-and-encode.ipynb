{
 "cells": [
  {
   "cell_type": "code",
   "execution_count": 1,
   "id": "4f02de32",
   "metadata": {
    "execution": {
     "iopub.execute_input": "2023-11-28T19:19:24.652585Z",
     "iopub.status.busy": "2023-11-28T19:19:24.651562Z",
     "iopub.status.idle": "2023-11-28T19:19:26.666218Z",
     "shell.execute_reply": "2023-11-28T19:19:26.664543Z"
    },
    "papermill": {
     "duration": 2.032896,
     "end_time": "2023-11-28T19:19:26.669697",
     "exception": false,
     "start_time": "2023-11-28T19:19:24.636801",
     "status": "completed"
    },
    "tags": []
   },
   "outputs": [],
   "source": [
    "import pandas as pd\n",
    "import numpy as np\n",
    "from pandas_summary import DataFrameSummary\n",
    "from sklearn.preprocessing import LabelEncoder, StandardScaler"
   ]
  },
  {
   "cell_type": "code",
   "execution_count": 2,
   "id": "80f02220",
   "metadata": {
    "execution": {
     "iopub.execute_input": "2023-11-28T19:19:26.699799Z",
     "iopub.status.busy": "2023-11-28T19:19:26.699111Z",
     "iopub.status.idle": "2023-11-28T19:19:29.261788Z",
     "shell.execute_reply": "2023-11-28T19:19:29.260510Z"
    },
    "papermill": {
     "duration": 2.581358,
     "end_time": "2023-11-28T19:19:29.264975",
     "exception": false,
     "start_time": "2023-11-28T19:19:26.683617",
     "status": "completed"
    },
    "tags": []
   },
   "outputs": [],
   "source": [
    "df_train = pd.read_feather('all_preprocessed_train.fth')\n",
    "df_test = pd.read_feather('all_preprocessed_test.fth')"
   ]
  },
  {
   "cell_type": "code",
   "execution_count": 3,
   "id": "06f93ad0",
   "metadata": {
    "execution": {
     "iopub.execute_input": "2023-11-28T19:19:29.293064Z",
     "iopub.status.busy": "2023-11-28T19:19:29.292633Z",
     "iopub.status.idle": "2023-11-28T19:19:29.303098Z",
     "shell.execute_reply": "2023-11-28T19:19:29.301549Z"
    },
    "papermill": {
     "duration": 0.027793,
     "end_time": "2023-11-28T19:19:29.306225",
     "exception": false,
     "start_time": "2023-11-28T19:19:29.278432",
     "status": "completed"
    },
    "tags": []
   },
   "outputs": [
    {
     "data": {
      "text/plain": [
       "((1017209, 81), (41088, 80))"
      ]
     },
     "execution_count": 3,
     "metadata": {},
     "output_type": "execute_result"
    }
   ],
   "source": [
    "df_train.shape, df_test.shape"
   ]
  },
  {
   "cell_type": "code",
   "execution_count": 4,
   "id": "30439f7b",
   "metadata": {
    "execution": {
     "iopub.execute_input": "2023-11-28T19:19:29.335523Z",
     "iopub.status.busy": "2023-11-28T19:19:29.334956Z",
     "iopub.status.idle": "2023-11-28T19:19:29.343070Z",
     "shell.execute_reply": "2023-11-28T19:19:29.341749Z"
    },
    "papermill": {
     "duration": 0.02529,
     "end_time": "2023-11-28T19:19:29.345662",
     "exception": false,
     "start_time": "2023-11-28T19:19:29.320372",
     "status": "completed"
    },
    "tags": []
   },
   "outputs": [
    {
     "data": {
      "text/plain": [
       "{'Customers', 'Sales'}"
      ]
     },
     "execution_count": 4,
     "metadata": {},
     "output_type": "execute_result"
    }
   ],
   "source": [
    "# Verificación de que se hicieron bien las cosas en testa también\n",
    "set(df_train.columns) - set(df_test.columns)"
   ]
  },
  {
   "cell_type": "code",
   "execution_count": 5,
   "id": "9ac11329",
   "metadata": {
    "execution": {
     "iopub.execute_input": "2023-11-28T19:19:29.373253Z",
     "iopub.status.busy": "2023-11-28T19:19:29.372757Z",
     "iopub.status.idle": "2023-11-28T19:19:29.384474Z",
     "shell.execute_reply": "2023-11-28T19:19:29.383297Z"
    },
    "papermill": {
     "duration": 0.028224,
     "end_time": "2023-11-28T19:19:29.386938",
     "exception": false,
     "start_time": "2023-11-28T19:19:29.358714",
     "status": "completed"
    },
    "tags": []
   },
   "outputs": [
    {
     "data": {
      "text/plain": [
       "0"
      ]
     },
     "execution_count": 5,
     "metadata": {},
     "output_type": "execute_result"
    }
   ],
   "source": [
    "(df_train['CompetitionDistance'].isna()).sum()"
   ]
  },
  {
   "cell_type": "markdown",
   "id": "1c54024e",
   "metadata": {
    "papermill": {
     "duration": 0.012893,
     "end_time": "2023-11-28T19:19:29.412199",
     "exception": false,
     "start_time": "2023-11-28T19:19:29.399306",
     "status": "completed"
    },
    "tags": []
   },
   "source": [
    "## Categorical vars"
   ]
  },
  {
   "cell_type": "code",
   "execution_count": 6,
   "id": "b74259d6",
   "metadata": {
    "execution": {
     "iopub.execute_input": "2023-11-28T19:19:29.440680Z",
     "iopub.status.busy": "2023-11-28T19:19:29.440202Z",
     "iopub.status.idle": "2023-11-28T19:19:29.447265Z",
     "shell.execute_reply": "2023-11-28T19:19:29.445792Z"
    },
    "papermill": {
     "duration": 0.024509,
     "end_time": "2023-11-28T19:19:29.449778",
     "exception": false,
     "start_time": "2023-11-28T19:19:29.425269",
     "status": "completed"
    },
    "tags": []
   },
   "outputs": [],
   "source": [
    "cat_vars = ['Store', 'DayOfWeek', 'Year', 'Month', 'Day', 'StateHoliday', \n",
    "            'CompetitionMonthsOpen', 'Promo2Weeks', \n",
    "            'StoreType', 'Assortment', 'PromoInterval', \n",
    "            'CompetitionOpenSinceYear', 'Promo2SinceYear', \n",
    "            'State', 'Week', 'Events', 'Promo_fw', 'Promo_bw', \n",
    "            'StateHoliday_bool_fw', 'StateHoliday_bool_bw', 'SchoolHoliday_fw', \n",
    "            'SchoolHoliday_bw']"
   ]
  },
  {
   "cell_type": "code",
   "execution_count": 7,
   "id": "ea5d901b",
   "metadata": {
    "execution": {
     "iopub.execute_input": "2023-11-28T19:19:29.478076Z",
     "iopub.status.busy": "2023-11-28T19:19:29.477605Z",
     "iopub.status.idle": "2023-11-28T19:19:29.483249Z",
     "shell.execute_reply": "2023-11-28T19:19:29.481938Z"
    },
    "papermill": {
     "duration": 0.022324,
     "end_time": "2023-11-28T19:19:29.485615",
     "exception": false,
     "start_time": "2023-11-28T19:19:29.463291",
     "status": "completed"
    },
    "tags": []
   },
   "outputs": [],
   "source": [
    "#DataFrameSummary(df_train[cat_vars]).summary()"
   ]
  },
  {
   "cell_type": "code",
   "execution_count": 8,
   "id": "397a18f7",
   "metadata": {
    "execution": {
     "iopub.execute_input": "2023-11-28T19:19:29.514023Z",
     "iopub.status.busy": "2023-11-28T19:19:29.513506Z",
     "iopub.status.idle": "2023-11-28T19:19:29.519316Z",
     "shell.execute_reply": "2023-11-28T19:19:29.517997Z"
    },
    "papermill": {
     "duration": 0.023087,
     "end_time": "2023-11-28T19:19:29.521701",
     "exception": false,
     "start_time": "2023-11-28T19:19:29.498614",
     "status": "completed"
    },
    "tags": []
   },
   "outputs": [],
   "source": [
    "#DataFrameSummary(df_train[cat_vars]).summary().loc[['uniques', 'types', 'missing']].T"
   ]
  },
  {
   "cell_type": "code",
   "execution_count": 9,
   "id": "28f981e0",
   "metadata": {
    "execution": {
     "iopub.execute_input": "2023-11-28T19:19:29.549847Z",
     "iopub.status.busy": "2023-11-28T19:19:29.549455Z",
     "iopub.status.idle": "2023-11-28T19:19:29.554285Z",
     "shell.execute_reply": "2023-11-28T19:19:29.553005Z"
    },
    "papermill": {
     "duration": 0.021858,
     "end_time": "2023-11-28T19:19:29.556681",
     "exception": false,
     "start_time": "2023-11-28T19:19:29.534823",
     "status": "completed"
    },
    "tags": []
   },
   "outputs": [],
   "source": [
    "# Reemplaza nulls por \"\" en categoricas\n",
    "# for v in cat_vars: df_train.loc[df_train[v].isnull(), v] = \"\""
   ]
  },
  {
   "cell_type": "code",
   "execution_count": 10,
   "id": "e90b8c50",
   "metadata": {
    "execution": {
     "iopub.execute_input": "2023-11-28T19:19:29.584487Z",
     "iopub.status.busy": "2023-11-28T19:19:29.584102Z",
     "iopub.status.idle": "2023-11-28T19:19:29.589120Z",
     "shell.execute_reply": "2023-11-28T19:19:29.587830Z"
    },
    "papermill": {
     "duration": 0.022327,
     "end_time": "2023-11-28T19:19:29.591774",
     "exception": false,
     "start_time": "2023-11-28T19:19:29.569447",
     "status": "completed"
    },
    "tags": []
   },
   "outputs": [],
   "source": [
    "# for v in cat_vars: df_test.loc[df_test[v].isnull(), v] = \"\""
   ]
  },
  {
   "cell_type": "markdown",
   "id": "e49b72d6",
   "metadata": {
    "papermill": {
     "duration": 0.012701,
     "end_time": "2023-11-28T19:19:29.617409",
     "exception": false,
     "start_time": "2023-11-28T19:19:29.604708",
     "status": "completed"
    },
    "tags": []
   },
   "source": [
    "# Continuos Vars"
   ]
  },
  {
   "cell_type": "code",
   "execution_count": 11,
   "id": "f8207573",
   "metadata": {
    "execution": {
     "iopub.execute_input": "2023-11-28T19:19:29.646282Z",
     "iopub.status.busy": "2023-11-28T19:19:29.645879Z",
     "iopub.status.idle": "2023-11-28T19:19:29.654398Z",
     "shell.execute_reply": "2023-11-28T19:19:29.653113Z"
    },
    "papermill": {
     "duration": 0.025669,
     "end_time": "2023-11-28T19:19:29.656780",
     "exception": false,
     "start_time": "2023-11-28T19:19:29.631111",
     "status": "completed"
    },
    "tags": []
   },
   "outputs": [
    {
     "data": {
      "text/plain": [
       "Index(['Store', 'DayOfWeek', 'Date', 'Sales', 'Customers', 'Open', 'Promo',\n",
       "       'StateHoliday', 'SchoolHoliday', 'Year', 'Month', 'Week', 'Day',\n",
       "       'StoreType', 'Assortment', 'CompetitionDistance',\n",
       "       'CompetitionOpenSinceMonth', 'CompetitionOpenSinceYear', 'Promo2',\n",
       "       'Promo2SinceWeek', 'Promo2SinceYear', 'PromoInterval',\n",
       "       'CompetitionOpenSince', 'Promo2Since', 'State', 'file', 'week', 'trend',\n",
       "       'Date_y', 'Month_y', 'Day_y', 'file_DE', 'week_DE', 'trend_DE',\n",
       "       'Date_DE', 'State_DE', 'Month_DE', 'Day_DE', 'file_y',\n",
       "       'Max_TemperatureC', 'Mean_TemperatureC', 'Min_TemperatureC',\n",
       "       'Dew_PointC', 'MeanDew_PointC', 'Min_DewpointC', 'Max_Humidity',\n",
       "       'Mean_Humidity', 'Min_Humidity', 'Max_Sea_Level_PressurehPa',\n",
       "       'Mean_Sea_Level_PressurehPa', 'Min_Sea_Level_PressurehPa',\n",
       "       'Max_VisibilityKm', 'Mean_VisibilityKm', 'Min_VisibilitykM',\n",
       "       'Max_Wind_SpeedKm_h', 'Mean_Wind_SpeedKm_h', 'Max_Gust_SpeedKm_h',\n",
       "       'Precipitationmm', 'CloudCover', 'Events', 'WindDirDegrees',\n",
       "       'StateName', 'Year_y', 'Week_y', 'CompetitionDaysOpen',\n",
       "       'CompetitionMonthsOpen', 'Promo2Days', 'Promo2Weeks',\n",
       "       'StateHoliday_bool', 'AfterSchoolHoliday', 'BeforeSchoolHoliday',\n",
       "       'AfterStateHoliday_bool', 'BeforeStateHoliday_bool', 'AfterPromo',\n",
       "       'BeforePromo', 'SchoolHoliday_bw', 'StateHoliday_bool_bw', 'Promo_bw',\n",
       "       'SchoolHoliday_fw', 'StateHoliday_bool_fw', 'Promo_fw'],\n",
       "      dtype='object')"
      ]
     },
     "execution_count": 11,
     "metadata": {},
     "output_type": "execute_result"
    }
   ],
   "source": [
    "df_train.columns"
   ]
  },
  {
   "cell_type": "code",
   "execution_count": 12,
   "id": "0d1e1624",
   "metadata": {
    "execution": {
     "iopub.execute_input": "2023-11-28T19:19:29.685061Z",
     "iopub.status.busy": "2023-11-28T19:19:29.684624Z",
     "iopub.status.idle": "2023-11-28T19:19:29.690617Z",
     "shell.execute_reply": "2023-11-28T19:19:29.689615Z"
    },
    "papermill": {
     "duration": 0.023053,
     "end_time": "2023-11-28T19:19:29.693211",
     "exception": false,
     "start_time": "2023-11-28T19:19:29.670158",
     "status": "completed"
    },
    "tags": []
   },
   "outputs": [],
   "source": [
    "contin_vars = ['CompetitionDistance', \n",
    "               'Max_TemperatureC', 'Mean_TemperatureC', 'Min_TemperatureC', \n",
    "               'Precipitationmm', 'Max_Humidity', 'Mean_Humidity', 'Min_Humidity', \n",
    "               'Max_Wind_SpeedKm_h', 'Mean_Wind_SpeedKm_h', 'CloudCover', 'trend', \n",
    "               'trend_DE', 'AfterStateHoliday_bool', 'BeforeStateHoliday_bool', \n",
    "               'Promo', 'SchoolHoliday', 'StateHoliday_bool']"
   ]
  },
  {
   "cell_type": "code",
   "execution_count": 13,
   "id": "77344ffd",
   "metadata": {
    "execution": {
     "iopub.execute_input": "2023-11-28T19:19:29.721162Z",
     "iopub.status.busy": "2023-11-28T19:19:29.720585Z",
     "iopub.status.idle": "2023-11-28T19:19:31.727404Z",
     "shell.execute_reply": "2023-11-28T19:19:31.726009Z"
    },
    "papermill": {
     "duration": 2.024052,
     "end_time": "2023-11-28T19:19:31.730097",
     "exception": false,
     "start_time": "2023-11-28T19:19:29.706045",
     "status": "completed"
    },
    "tags": []
   },
   "outputs": [
    {
     "data": {
      "text/html": [
       "<div>\n",
       "<style scoped>\n",
       "    .dataframe tbody tr th:only-of-type {\n",
       "        vertical-align: middle;\n",
       "    }\n",
       "\n",
       "    .dataframe tbody tr th {\n",
       "        vertical-align: top;\n",
       "    }\n",
       "\n",
       "    .dataframe thead th {\n",
       "        text-align: right;\n",
       "    }\n",
       "</style>\n",
       "<table border=\"1\" class=\"dataframe\">\n",
       "  <thead>\n",
       "    <tr style=\"text-align: right;\">\n",
       "      <th></th>\n",
       "      <th>uniques</th>\n",
       "      <th>types</th>\n",
       "      <th>missing</th>\n",
       "    </tr>\n",
       "  </thead>\n",
       "  <tbody>\n",
       "    <tr>\n",
       "      <th>CompetitionDistance</th>\n",
       "      <td>654</td>\n",
       "      <td>numeric</td>\n",
       "      <td>0</td>\n",
       "    </tr>\n",
       "    <tr>\n",
       "      <th>Max_TemperatureC</th>\n",
       "      <td>50</td>\n",
       "      <td>numeric</td>\n",
       "      <td>0</td>\n",
       "    </tr>\n",
       "    <tr>\n",
       "      <th>Mean_TemperatureC</th>\n",
       "      <td>45</td>\n",
       "      <td>numeric</td>\n",
       "      <td>0</td>\n",
       "    </tr>\n",
       "    <tr>\n",
       "      <th>Min_TemperatureC</th>\n",
       "      <td>40</td>\n",
       "      <td>numeric</td>\n",
       "      <td>0</td>\n",
       "    </tr>\n",
       "    <tr>\n",
       "      <th>Precipitationmm</th>\n",
       "      <td>40</td>\n",
       "      <td>numeric</td>\n",
       "      <td>0</td>\n",
       "    </tr>\n",
       "    <tr>\n",
       "      <th>Max_Humidity</th>\n",
       "      <td>52</td>\n",
       "      <td>numeric</td>\n",
       "      <td>0</td>\n",
       "    </tr>\n",
       "    <tr>\n",
       "      <th>Mean_Humidity</th>\n",
       "      <td>71</td>\n",
       "      <td>numeric</td>\n",
       "      <td>0</td>\n",
       "    </tr>\n",
       "    <tr>\n",
       "      <th>Min_Humidity</th>\n",
       "      <td>93</td>\n",
       "      <td>numeric</td>\n",
       "      <td>0</td>\n",
       "    </tr>\n",
       "    <tr>\n",
       "      <th>Max_Wind_SpeedKm_h</th>\n",
       "      <td>42</td>\n",
       "      <td>numeric</td>\n",
       "      <td>0</td>\n",
       "    </tr>\n",
       "    <tr>\n",
       "      <th>Mean_Wind_SpeedKm_h</th>\n",
       "      <td>27</td>\n",
       "      <td>numeric</td>\n",
       "      <td>0</td>\n",
       "    </tr>\n",
       "    <tr>\n",
       "      <th>CloudCover</th>\n",
       "      <td>9</td>\n",
       "      <td>numeric</td>\n",
       "      <td>0</td>\n",
       "    </tr>\n",
       "    <tr>\n",
       "      <th>trend</th>\n",
       "      <td>67</td>\n",
       "      <td>numeric</td>\n",
       "      <td>0</td>\n",
       "    </tr>\n",
       "    <tr>\n",
       "      <th>trend_DE</th>\n",
       "      <td>38</td>\n",
       "      <td>numeric</td>\n",
       "      <td>0</td>\n",
       "    </tr>\n",
       "    <tr>\n",
       "      <th>AfterStateHoliday_bool</th>\n",
       "      <td>136</td>\n",
       "      <td>numeric</td>\n",
       "      <td>0</td>\n",
       "    </tr>\n",
       "    <tr>\n",
       "      <th>BeforeStateHoliday_bool</th>\n",
       "      <td>147</td>\n",
       "      <td>numeric</td>\n",
       "      <td>0</td>\n",
       "    </tr>\n",
       "    <tr>\n",
       "      <th>Promo</th>\n",
       "      <td>2</td>\n",
       "      <td>bool</td>\n",
       "      <td>0</td>\n",
       "    </tr>\n",
       "    <tr>\n",
       "      <th>SchoolHoliday</th>\n",
       "      <td>2</td>\n",
       "      <td>bool</td>\n",
       "      <td>0</td>\n",
       "    </tr>\n",
       "    <tr>\n",
       "      <th>StateHoliday_bool</th>\n",
       "      <td>2</td>\n",
       "      <td>bool</td>\n",
       "      <td>0</td>\n",
       "    </tr>\n",
       "  </tbody>\n",
       "</table>\n",
       "</div>"
      ],
      "text/plain": [
       "                        uniques    types missing\n",
       "CompetitionDistance         654  numeric       0\n",
       "Max_TemperatureC             50  numeric       0\n",
       "Mean_TemperatureC            45  numeric       0\n",
       "Min_TemperatureC             40  numeric       0\n",
       "Precipitationmm              40  numeric       0\n",
       "Max_Humidity                 52  numeric       0\n",
       "Mean_Humidity                71  numeric       0\n",
       "Min_Humidity                 93  numeric       0\n",
       "Max_Wind_SpeedKm_h           42  numeric       0\n",
       "Mean_Wind_SpeedKm_h          27  numeric       0\n",
       "CloudCover                    9  numeric       0\n",
       "trend                        67  numeric       0\n",
       "trend_DE                     38  numeric       0\n",
       "AfterStateHoliday_bool      136  numeric       0\n",
       "BeforeStateHoliday_bool     147  numeric       0\n",
       "Promo                         2     bool       0\n",
       "SchoolHoliday                 2     bool       0\n",
       "StateHoliday_bool             2     bool       0"
      ]
     },
     "execution_count": 13,
     "metadata": {},
     "output_type": "execute_result"
    }
   ],
   "source": [
    "DataFrameSummary(df_train[contin_vars]).summary().loc[['uniques', 'types', 'missing']].T"
   ]
  },
  {
   "cell_type": "code",
   "execution_count": 14,
   "id": "d4487e1c",
   "metadata": {
    "execution": {
     "iopub.execute_input": "2023-11-28T19:19:31.759193Z",
     "iopub.status.busy": "2023-11-28T19:19:31.758138Z",
     "iopub.status.idle": "2023-11-28T19:19:31.763807Z",
     "shell.execute_reply": "2023-11-28T19:19:31.762897Z"
    },
    "papermill": {
     "duration": 0.02284,
     "end_time": "2023-11-28T19:19:31.766200",
     "exception": false,
     "start_time": "2023-11-28T19:19:31.743360",
     "status": "completed"
    },
    "tags": []
   },
   "outputs": [],
   "source": [
    "# Reemplaza nulls por 0 en continuas\n",
    "# for v in contin_vars: df_train.loc[df_train[v].isnull(), v] = 0\n",
    "# for v in contin_vars: df_test.loc[df_test[v].isnull(), v] = 0"
   ]
  },
  {
   "cell_type": "markdown",
   "id": "1cfbfe1f",
   "metadata": {
    "papermill": {
     "duration": 0.012936,
     "end_time": "2023-11-28T19:19:31.792889",
     "exception": false,
     "start_time": "2023-11-28T19:19:31.779953",
     "status": "completed"
    },
    "tags": []
   },
   "source": [
    "# Normalización en continuas y LabelEncode en Categoricas"
   ]
  },
  {
   "cell_type": "code",
   "execution_count": 15,
   "id": "c1c169cc",
   "metadata": {
    "execution": {
     "iopub.execute_input": "2023-11-28T19:19:31.822658Z",
     "iopub.status.busy": "2023-11-28T19:19:31.821281Z",
     "iopub.status.idle": "2023-11-28T19:19:31.826828Z",
     "shell.execute_reply": "2023-11-28T19:19:31.826024Z"
    },
    "papermill": {
     "duration": 0.022937,
     "end_time": "2023-11-28T19:19:31.829290",
     "exception": false,
     "start_time": "2023-11-28T19:19:31.806353",
     "status": "completed"
    },
    "tags": []
   },
   "outputs": [],
   "source": [
    "#pip install sklearn_pandas"
   ]
  },
  {
   "cell_type": "code",
   "execution_count": 16,
   "id": "0bf985e4",
   "metadata": {
    "execution": {
     "iopub.execute_input": "2023-11-28T19:19:31.859347Z",
     "iopub.status.busy": "2023-11-28T19:19:31.857922Z",
     "iopub.status.idle": "2023-11-28T19:19:31.876022Z",
     "shell.execute_reply": "2023-11-28T19:19:31.874799Z"
    },
    "papermill": {
     "duration": 0.036469,
     "end_time": "2023-11-28T19:19:31.879180",
     "exception": false,
     "start_time": "2023-11-28T19:19:31.842711",
     "status": "completed"
    },
    "tags": []
   },
   "outputs": [],
   "source": [
    "from sklearn_pandas import DataFrameMapper"
   ]
  },
  {
   "cell_type": "code",
   "execution_count": 17,
   "id": "852dc85a",
   "metadata": {
    "execution": {
     "iopub.execute_input": "2023-11-28T19:19:31.908197Z",
     "iopub.status.busy": "2023-11-28T19:19:31.907779Z",
     "iopub.status.idle": "2023-11-28T19:19:31.912902Z",
     "shell.execute_reply": "2023-11-28T19:19:31.912020Z"
    },
    "papermill": {
     "duration": 0.022561,
     "end_time": "2023-11-28T19:19:31.915164",
     "exception": false,
     "start_time": "2023-11-28T19:19:31.892603",
     "status": "completed"
    },
    "tags": []
   },
   "outputs": [],
   "source": [
    "cat_maps = [(o, LabelEncoder()) for o in cat_vars]\n",
    "contin_maps = [([o], StandardScaler()) for o in contin_vars]"
   ]
  },
  {
   "cell_type": "code",
   "execution_count": 18,
   "id": "4da169da",
   "metadata": {
    "execution": {
     "iopub.execute_input": "2023-11-28T19:19:32.038384Z",
     "iopub.status.busy": "2023-11-28T19:19:32.037301Z",
     "iopub.status.idle": "2023-11-28T19:19:32.725801Z",
     "shell.execute_reply": "2023-11-28T19:19:32.724446Z"
    },
    "papermill": {
     "duration": 0.707025,
     "end_time": "2023-11-28T19:19:32.729020",
     "exception": false,
     "start_time": "2023-11-28T19:19:32.021995",
     "status": "completed"
    },
    "tags": []
   },
   "outputs": [],
   "source": [
    "mapper_cat = DataFrameMapper(cat_maps)\n",
    "_ = mapper_cat.fit(df_train)"
   ]
  },
  {
   "cell_type": "code",
   "execution_count": 19,
   "id": "2141adac",
   "metadata": {
    "execution": {
     "iopub.execute_input": "2023-11-28T19:19:32.758748Z",
     "iopub.status.busy": "2023-11-28T19:19:32.757796Z",
     "iopub.status.idle": "2023-11-28T19:19:40.377149Z",
     "shell.execute_reply": "2023-11-28T19:19:40.375538Z"
    },
    "papermill": {
     "duration": 7.637616,
     "end_time": "2023-11-28T19:19:40.380265",
     "exception": false,
     "start_time": "2023-11-28T19:19:32.742649",
     "status": "completed"
    },
    "tags": []
   },
   "outputs": [
    {
     "name": "stdout",
     "output_type": "stream",
     "text": [
      "[('a', 0), ('a', 0), ('a', 0), ('c', 2), ('a', 0), ('a', 0), ('c', 2), ('a', 0), ('c', 2), ('a', 0)]\n",
      "[('Fog', 0), ('Fog', 0), ('Fog', 0), ('Sunny', 20), ('Sunny', 20), ('Sunny', 20), ('Rain', 10), ('Rain', 10), ('Fog', 0), ('Sunny', 20)]\n",
      "[(2015, 2), (2015, 2), (2015, 2), (2015, 2), (2015, 2), (2015, 2), (2015, 2), (2015, 2), (2015, 2), (2015, 2)]\n"
     ]
    }
   ],
   "source": [
    "# Assortment es la novena posición en cat_maps\n",
    "N = 10\n",
    "print(list(zip(df_train['Assortment'].values[:N], mapper_cat.transform(df_train)[:,9][:N])))\n",
    "print(list(zip(df_train['Events'].values[:N], mapper_cat.transform(df_train)[:,15][:N])))\n",
    "print(list(zip(df_train['Year'].values[:N], mapper_cat.transform(df_train)[:,2][:N])))"
   ]
  },
  {
   "cell_type": "code",
   "execution_count": 20,
   "id": "4e39ebd2",
   "metadata": {
    "execution": {
     "iopub.execute_input": "2023-11-28T19:19:40.410711Z",
     "iopub.status.busy": "2023-11-28T19:19:40.410270Z",
     "iopub.status.idle": "2023-11-28T19:19:40.605695Z",
     "shell.execute_reply": "2023-11-28T19:19:40.604592Z"
    },
    "papermill": {
     "duration": 0.21444,
     "end_time": "2023-11-28T19:19:40.608859",
     "exception": false,
     "start_time": "2023-11-28T19:19:40.394419",
     "status": "completed"
    },
    "tags": []
   },
   "outputs": [],
   "source": [
    "mapper_cont = DataFrameMapper(contin_maps)\n",
    "_ = mapper_cont.fit(df_train)"
   ]
  },
  {
   "cell_type": "code",
   "execution_count": 21,
   "id": "6549f78e",
   "metadata": {
    "execution": {
     "iopub.execute_input": "2023-11-28T19:19:40.639921Z",
     "iopub.status.busy": "2023-11-28T19:19:40.639500Z",
     "iopub.status.idle": "2023-11-28T19:19:41.047202Z",
     "shell.execute_reply": "2023-11-28T19:19:41.045795Z"
    },
    "papermill": {
     "duration": 0.426038,
     "end_time": "2023-11-28T19:19:41.050085",
     "exception": false,
     "start_time": "2023-11-28T19:19:40.624047",
     "status": "completed"
    },
    "tags": []
   },
   "outputs": [
    {
     "name": "stdout",
     "output_type": "stream",
     "text": [
      "[ 1270.   570. 14130.   620. 29910.   310. 24000.  7520.  2030.  3160.]\n",
      "[-0.51104292 -0.59341201  1.00219483 -0.5875285   2.85902934 -0.62400624\n",
      "  2.16359893  0.22439533 -0.42161363 -0.28864639]\n"
     ]
    }
   ],
   "source": [
    "N = 10\n",
    "print(df_train['CompetitionDistance'].values[:N])\n",
    "print(mapper_cont.transform(df_train)[:, 0][:N])"
   ]
  },
  {
   "cell_type": "code",
   "execution_count": 22,
   "id": "b00af18a",
   "metadata": {
    "execution": {
     "iopub.execute_input": "2023-11-28T19:19:41.080144Z",
     "iopub.status.busy": "2023-11-28T19:19:41.079705Z",
     "iopub.status.idle": "2023-11-28T19:19:44.071089Z",
     "shell.execute_reply": "2023-11-28T19:19:44.069589Z"
    },
    "papermill": {
     "duration": 3.010296,
     "end_time": "2023-11-28T19:19:44.074428",
     "exception": false,
     "start_time": "2023-11-28T19:19:41.064132",
     "status": "completed"
    },
    "tags": []
   },
   "outputs": [],
   "source": [
    "# La hacemos con todas ahora\n",
    "df_train[cat_vars] = mapper_cat.transform(df_train)\n",
    "df_test[cat_vars] = mapper_cat.transform(df_test)"
   ]
  },
  {
   "cell_type": "code",
   "execution_count": 23,
   "id": "829e50a6",
   "metadata": {
    "execution": {
     "iopub.execute_input": "2023-11-28T19:19:44.106321Z",
     "iopub.status.busy": "2023-11-28T19:19:44.105914Z",
     "iopub.status.idle": "2023-11-28T19:19:44.775382Z",
     "shell.execute_reply": "2023-11-28T19:19:44.773054Z"
    },
    "papermill": {
     "duration": 0.689826,
     "end_time": "2023-11-28T19:19:44.778843",
     "exception": false,
     "start_time": "2023-11-28T19:19:44.089017",
     "status": "completed"
    },
    "tags": []
   },
   "outputs": [],
   "source": [
    "df_train[contin_vars] = mapper_cont.transform(df_train)\n",
    "df_test[contin_vars] = mapper_cont.transform(df_test)"
   ]
  },
  {
   "cell_type": "code",
   "execution_count": 24,
   "id": "4a9e1549",
   "metadata": {
    "execution": {
     "iopub.execute_input": "2023-11-28T19:19:44.809690Z",
     "iopub.status.busy": "2023-11-28T19:19:44.809281Z",
     "iopub.status.idle": "2023-11-28T19:19:44.835831Z",
     "shell.execute_reply": "2023-11-28T19:19:44.834478Z"
    },
    "papermill": {
     "duration": 0.046073,
     "end_time": "2023-11-28T19:19:44.839270",
     "exception": false,
     "start_time": "2023-11-28T19:19:44.793197",
     "status": "completed"
    },
    "tags": []
   },
   "outputs": [
    {
     "data": {
      "text/html": [
       "<div>\n",
       "<style scoped>\n",
       "    .dataframe tbody tr th:only-of-type {\n",
       "        vertical-align: middle;\n",
       "    }\n",
       "\n",
       "    .dataframe tbody tr th {\n",
       "        vertical-align: top;\n",
       "    }\n",
       "\n",
       "    .dataframe thead th {\n",
       "        text-align: right;\n",
       "    }\n",
       "</style>\n",
       "<table border=\"1\" class=\"dataframe\">\n",
       "  <thead>\n",
       "    <tr style=\"text-align: right;\">\n",
       "      <th></th>\n",
       "      <th>Store</th>\n",
       "      <th>DayOfWeek</th>\n",
       "      <th>Date</th>\n",
       "      <th>Sales</th>\n",
       "      <th>Customers</th>\n",
       "      <th>Open</th>\n",
       "      <th>Promo</th>\n",
       "      <th>StateHoliday</th>\n",
       "      <th>SchoolHoliday</th>\n",
       "      <th>Year</th>\n",
       "      <th>...</th>\n",
       "      <th>AfterStateHoliday_bool</th>\n",
       "      <th>BeforeStateHoliday_bool</th>\n",
       "      <th>AfterPromo</th>\n",
       "      <th>BeforePromo</th>\n",
       "      <th>SchoolHoliday_bw</th>\n",
       "      <th>StateHoliday_bool_bw</th>\n",
       "      <th>Promo_bw</th>\n",
       "      <th>SchoolHoliday_fw</th>\n",
       "      <th>StateHoliday_bool_fw</th>\n",
       "      <th>Promo_fw</th>\n",
       "    </tr>\n",
       "  </thead>\n",
       "  <tbody>\n",
       "    <tr>\n",
       "      <th>0</th>\n",
       "      <td>0</td>\n",
       "      <td>4</td>\n",
       "      <td>2015-07-31</td>\n",
       "      <td>5263</td>\n",
       "      <td>555</td>\n",
       "      <td>1</td>\n",
       "      <td>1.273237</td>\n",
       "      <td>0</td>\n",
       "      <td>2.144211</td>\n",
       "      <td>2</td>\n",
       "      <td>...</td>\n",
       "      <td>0.644376</td>\n",
       "      <td>1.072424</td>\n",
       "      <td>0</td>\n",
       "      <td>0</td>\n",
       "      <td>5</td>\n",
       "      <td>0</td>\n",
       "      <td>5</td>\n",
       "      <td>1</td>\n",
       "      <td>0</td>\n",
       "      <td>1</td>\n",
       "    </tr>\n",
       "    <tr>\n",
       "      <th>1</th>\n",
       "      <td>1</td>\n",
       "      <td>4</td>\n",
       "      <td>2015-07-31</td>\n",
       "      <td>6064</td>\n",
       "      <td>625</td>\n",
       "      <td>1</td>\n",
       "      <td>1.273237</td>\n",
       "      <td>0</td>\n",
       "      <td>2.144211</td>\n",
       "      <td>2</td>\n",
       "      <td>...</td>\n",
       "      <td>0.965073</td>\n",
       "      <td>1.072424</td>\n",
       "      <td>0</td>\n",
       "      <td>0</td>\n",
       "      <td>5</td>\n",
       "      <td>0</td>\n",
       "      <td>5</td>\n",
       "      <td>1</td>\n",
       "      <td>0</td>\n",
       "      <td>1</td>\n",
       "    </tr>\n",
       "    <tr>\n",
       "      <th>2</th>\n",
       "      <td>2</td>\n",
       "      <td>4</td>\n",
       "      <td>2015-07-31</td>\n",
       "      <td>8314</td>\n",
       "      <td>821</td>\n",
       "      <td>1</td>\n",
       "      <td>1.273237</td>\n",
       "      <td>0</td>\n",
       "      <td>2.144211</td>\n",
       "      <td>2</td>\n",
       "      <td>...</td>\n",
       "      <td>0.644376</td>\n",
       "      <td>1.072424</td>\n",
       "      <td>0</td>\n",
       "      <td>0</td>\n",
       "      <td>5</td>\n",
       "      <td>0</td>\n",
       "      <td>5</td>\n",
       "      <td>1</td>\n",
       "      <td>0</td>\n",
       "      <td>1</td>\n",
       "    </tr>\n",
       "    <tr>\n",
       "      <th>3</th>\n",
       "      <td>3</td>\n",
       "      <td>4</td>\n",
       "      <td>2015-07-31</td>\n",
       "      <td>13995</td>\n",
       "      <td>1498</td>\n",
       "      <td>1</td>\n",
       "      <td>1.273237</td>\n",
       "      <td>0</td>\n",
       "      <td>2.144211</td>\n",
       "      <td>2</td>\n",
       "      <td>...</td>\n",
       "      <td>0.965073</td>\n",
       "      <td>1.072424</td>\n",
       "      <td>0</td>\n",
       "      <td>0</td>\n",
       "      <td>5</td>\n",
       "      <td>0</td>\n",
       "      <td>5</td>\n",
       "      <td>1</td>\n",
       "      <td>0</td>\n",
       "      <td>1</td>\n",
       "    </tr>\n",
       "    <tr>\n",
       "      <th>4</th>\n",
       "      <td>4</td>\n",
       "      <td>4</td>\n",
       "      <td>2015-07-31</td>\n",
       "      <td>4822</td>\n",
       "      <td>559</td>\n",
       "      <td>1</td>\n",
       "      <td>1.273237</td>\n",
       "      <td>0</td>\n",
       "      <td>2.144211</td>\n",
       "      <td>2</td>\n",
       "      <td>...</td>\n",
       "      <td>0.644376</td>\n",
       "      <td>1.072424</td>\n",
       "      <td>0</td>\n",
       "      <td>0</td>\n",
       "      <td>5</td>\n",
       "      <td>0</td>\n",
       "      <td>5</td>\n",
       "      <td>1</td>\n",
       "      <td>0</td>\n",
       "      <td>1</td>\n",
       "    </tr>\n",
       "  </tbody>\n",
       "</table>\n",
       "<p>5 rows × 81 columns</p>\n",
       "</div>"
      ],
      "text/plain": [
       "   Store  DayOfWeek       Date  Sales  Customers  Open     Promo  \\\n",
       "0      0          4 2015-07-31   5263        555     1  1.273237   \n",
       "1      1          4 2015-07-31   6064        625     1  1.273237   \n",
       "2      2          4 2015-07-31   8314        821     1  1.273237   \n",
       "3      3          4 2015-07-31  13995       1498     1  1.273237   \n",
       "4      4          4 2015-07-31   4822        559     1  1.273237   \n",
       "\n",
       "   StateHoliday  SchoolHoliday  Year  ...  AfterStateHoliday_bool  \\\n",
       "0             0       2.144211     2  ...                0.644376   \n",
       "1             0       2.144211     2  ...                0.965073   \n",
       "2             0       2.144211     2  ...                0.644376   \n",
       "3             0       2.144211     2  ...                0.965073   \n",
       "4             0       2.144211     2  ...                0.644376   \n",
       "\n",
       "   BeforeStateHoliday_bool  AfterPromo  BeforePromo  SchoolHoliday_bw  \\\n",
       "0                 1.072424           0            0                 5   \n",
       "1                 1.072424           0            0                 5   \n",
       "2                 1.072424           0            0                 5   \n",
       "3                 1.072424           0            0                 5   \n",
       "4                 1.072424           0            0                 5   \n",
       "\n",
       "   StateHoliday_bool_bw  Promo_bw  SchoolHoliday_fw  StateHoliday_bool_fw  \\\n",
       "0                     0         5                 1                     0   \n",
       "1                     0         5                 1                     0   \n",
       "2                     0         5                 1                     0   \n",
       "3                     0         5                 1                     0   \n",
       "4                     0         5                 1                     0   \n",
       "\n",
       "   Promo_fw  \n",
       "0         1  \n",
       "1         1  \n",
       "2         1  \n",
       "3         1  \n",
       "4         1  \n",
       "\n",
       "[5 rows x 81 columns]"
      ]
     },
     "execution_count": 24,
     "metadata": {},
     "output_type": "execute_result"
    }
   ],
   "source": [
    "df_train.head()"
   ]
  },
  {
   "cell_type": "code",
   "execution_count": 25,
   "id": "41e5ad32",
   "metadata": {
    "execution": {
     "iopub.execute_input": "2023-11-28T19:19:44.872011Z",
     "iopub.status.busy": "2023-11-28T19:19:44.871069Z",
     "iopub.status.idle": "2023-11-28T19:19:47.547853Z",
     "shell.execute_reply": "2023-11-28T19:19:47.546637Z"
    },
    "papermill": {
     "duration": 2.696023,
     "end_time": "2023-11-28T19:19:47.550552",
     "exception": false,
     "start_time": "2023-11-28T19:19:44.854529",
     "status": "completed"
    },
    "tags": []
   },
   "outputs": [
    {
     "data": {
      "text/html": [
       "<div>\n",
       "<style scoped>\n",
       "    .dataframe tbody tr th:only-of-type {\n",
       "        vertical-align: middle;\n",
       "    }\n",
       "\n",
       "    .dataframe tbody tr th {\n",
       "        vertical-align: top;\n",
       "    }\n",
       "\n",
       "    .dataframe thead th {\n",
       "        text-align: right;\n",
       "    }\n",
       "</style>\n",
       "<table border=\"1\" class=\"dataframe\">\n",
       "  <thead>\n",
       "    <tr style=\"text-align: right;\">\n",
       "      <th></th>\n",
       "      <th>Store</th>\n",
       "      <th>DayOfWeek</th>\n",
       "      <th>Year</th>\n",
       "      <th>Month</th>\n",
       "      <th>Day</th>\n",
       "      <th>StateHoliday</th>\n",
       "      <th>CompetitionMonthsOpen</th>\n",
       "      <th>Promo2Weeks</th>\n",
       "      <th>StoreType</th>\n",
       "      <th>Assortment</th>\n",
       "      <th>...</th>\n",
       "      <th>Promo2SinceYear</th>\n",
       "      <th>State</th>\n",
       "      <th>Week</th>\n",
       "      <th>Events</th>\n",
       "      <th>Promo_fw</th>\n",
       "      <th>Promo_bw</th>\n",
       "      <th>StateHoliday_bool_fw</th>\n",
       "      <th>StateHoliday_bool_bw</th>\n",
       "      <th>SchoolHoliday_fw</th>\n",
       "      <th>SchoolHoliday_bw</th>\n",
       "    </tr>\n",
       "  </thead>\n",
       "  <tbody>\n",
       "    <tr>\n",
       "      <th>uniques</th>\n",
       "      <td>1115</td>\n",
       "      <td>7</td>\n",
       "      <td>3</td>\n",
       "      <td>12</td>\n",
       "      <td>31</td>\n",
       "      <td>4</td>\n",
       "      <td>25</td>\n",
       "      <td>26</td>\n",
       "      <td>4</td>\n",
       "      <td>3</td>\n",
       "      <td>...</td>\n",
       "      <td>8</td>\n",
       "      <td>12</td>\n",
       "      <td>52</td>\n",
       "      <td>22</td>\n",
       "      <td>6</td>\n",
       "      <td>6</td>\n",
       "      <td>3</td>\n",
       "      <td>3</td>\n",
       "      <td>8</td>\n",
       "      <td>8</td>\n",
       "    </tr>\n",
       "    <tr>\n",
       "      <th>types</th>\n",
       "      <td>numeric</td>\n",
       "      <td>numeric</td>\n",
       "      <td>numeric</td>\n",
       "      <td>numeric</td>\n",
       "      <td>numeric</td>\n",
       "      <td>numeric</td>\n",
       "      <td>numeric</td>\n",
       "      <td>numeric</td>\n",
       "      <td>numeric</td>\n",
       "      <td>numeric</td>\n",
       "      <td>...</td>\n",
       "      <td>numeric</td>\n",
       "      <td>numeric</td>\n",
       "      <td>numeric</td>\n",
       "      <td>numeric</td>\n",
       "      <td>numeric</td>\n",
       "      <td>numeric</td>\n",
       "      <td>numeric</td>\n",
       "      <td>numeric</td>\n",
       "      <td>numeric</td>\n",
       "      <td>numeric</td>\n",
       "    </tr>\n",
       "  </tbody>\n",
       "</table>\n",
       "<p>2 rows × 22 columns</p>\n",
       "</div>"
      ],
      "text/plain": [
       "           Store DayOfWeek     Year    Month      Day StateHoliday  \\\n",
       "uniques     1115         7        3       12       31            4   \n",
       "types    numeric   numeric  numeric  numeric  numeric      numeric   \n",
       "\n",
       "        CompetitionMonthsOpen Promo2Weeks StoreType Assortment  ...  \\\n",
       "uniques                    25          26         4          3  ...   \n",
       "types                 numeric     numeric   numeric    numeric  ...   \n",
       "\n",
       "        Promo2SinceYear    State     Week   Events Promo_fw Promo_bw  \\\n",
       "uniques               8       12       52       22        6        6   \n",
       "types           numeric  numeric  numeric  numeric  numeric  numeric   \n",
       "\n",
       "        StateHoliday_bool_fw StateHoliday_bool_bw SchoolHoliday_fw  \\\n",
       "uniques                    3                    3                8   \n",
       "types                numeric              numeric          numeric   \n",
       "\n",
       "        SchoolHoliday_bw  \n",
       "uniques                8  \n",
       "types            numeric  \n",
       "\n",
       "[2 rows x 22 columns]"
      ]
     },
     "execution_count": 25,
     "metadata": {},
     "output_type": "execute_result"
    }
   ],
   "source": [
    "DataFrameSummary(df_train[cat_vars]).summary().loc[['uniques', 'types']]"
   ]
  },
  {
   "cell_type": "markdown",
   "id": "ab85ba00",
   "metadata": {
    "papermill": {
     "duration": 0.014445,
     "end_time": "2023-11-28T19:19:47.579772",
     "exception": false,
     "start_time": "2023-11-28T19:19:47.565327",
     "status": "completed"
    },
    "tags": []
   },
   "source": [
    "# Final processing"
   ]
  },
  {
   "cell_type": "code",
   "execution_count": 26,
   "id": "8ccf369e",
   "metadata": {
    "execution": {
     "iopub.execute_input": "2023-11-28T19:19:47.612866Z",
     "iopub.status.busy": "2023-11-28T19:19:47.612447Z",
     "iopub.status.idle": "2023-11-28T19:19:47.619029Z",
     "shell.execute_reply": "2023-11-28T19:19:47.618000Z"
    },
    "papermill": {
     "duration": 0.025835,
     "end_time": "2023-11-28T19:19:47.621458",
     "exception": false,
     "start_time": "2023-11-28T19:19:47.595623",
     "status": "completed"
    },
    "tags": []
   },
   "outputs": [
    {
     "data": {
      "text/plain": [
       "(1017209, 81)"
      ]
     },
     "execution_count": 26,
     "metadata": {},
     "output_type": "execute_result"
    }
   ],
   "source": [
    "df_train.shape"
   ]
  },
  {
   "cell_type": "code",
   "execution_count": 27,
   "id": "19eda6b4",
   "metadata": {
    "execution": {
     "iopub.execute_input": "2023-11-28T19:19:47.653145Z",
     "iopub.status.busy": "2023-11-28T19:19:47.652711Z",
     "iopub.status.idle": "2023-11-28T19:19:48.298695Z",
     "shell.execute_reply": "2023-11-28T19:19:48.297603Z"
    },
    "papermill": {
     "duration": 0.665225,
     "end_time": "2023-11-28T19:19:48.301522",
     "exception": false,
     "start_time": "2023-11-28T19:19:47.636297",
     "status": "completed"
    },
    "tags": []
   },
   "outputs": [],
   "source": [
    "df_sales = df_train[df_train.Sales!=0]"
   ]
  },
  {
   "cell_type": "code",
   "execution_count": 28,
   "id": "87e5eaf8",
   "metadata": {
    "execution": {
     "iopub.execute_input": "2023-11-28T19:19:48.332969Z",
     "iopub.status.busy": "2023-11-28T19:19:48.332464Z",
     "iopub.status.idle": "2023-11-28T19:19:48.339926Z",
     "shell.execute_reply": "2023-11-28T19:19:48.339019Z"
    },
    "papermill": {
     "duration": 0.026116,
     "end_time": "2023-11-28T19:19:48.342319",
     "exception": false,
     "start_time": "2023-11-28T19:19:48.316203",
     "status": "completed"
    },
    "tags": []
   },
   "outputs": [
    {
     "data": {
      "text/plain": [
       "(844338, 81)"
      ]
     },
     "execution_count": 28,
     "metadata": {},
     "output_type": "execute_result"
    }
   ],
   "source": [
    "df_sales.shape"
   ]
  },
  {
   "cell_type": "code",
   "execution_count": 29,
   "id": "aadd8901",
   "metadata": {
    "execution": {
     "iopub.execute_input": "2023-11-28T19:19:48.374366Z",
     "iopub.status.busy": "2023-11-28T19:19:48.373545Z",
     "iopub.status.idle": "2023-11-28T19:19:48.380254Z",
     "shell.execute_reply": "2023-11-28T19:19:48.379070Z"
    },
    "papermill": {
     "duration": 0.025969,
     "end_time": "2023-11-28T19:19:48.383010",
     "exception": false,
     "start_time": "2023-11-28T19:19:48.357041",
     "status": "completed"
    },
    "tags": []
   },
   "outputs": [],
   "source": [
    "df_test.reset_index(inplace=True)"
   ]
  },
  {
   "cell_type": "code",
   "execution_count": 30,
   "id": "b2fb26ce",
   "metadata": {
    "execution": {
     "iopub.execute_input": "2023-11-28T19:19:48.421249Z",
     "iopub.status.busy": "2023-11-28T19:19:48.420262Z",
     "iopub.status.idle": "2023-11-28T19:19:48.430762Z",
     "shell.execute_reply": "2023-11-28T19:19:48.429661Z"
    },
    "papermill": {
     "duration": 0.034667,
     "end_time": "2023-11-28T19:19:48.434263",
     "exception": false,
     "start_time": "2023-11-28T19:19:48.399596",
     "status": "completed"
    },
    "tags": []
   },
   "outputs": [],
   "source": [
    "df_sales.reset_index(inplace=True)"
   ]
  },
  {
   "cell_type": "code",
   "execution_count": 31,
   "id": "362e5a6d",
   "metadata": {
    "execution": {
     "iopub.execute_input": "2023-11-28T19:19:48.476337Z",
     "iopub.status.busy": "2023-11-28T19:19:48.475113Z",
     "iopub.status.idle": "2023-11-28T19:19:49.396807Z",
     "shell.execute_reply": "2023-11-28T19:19:49.394077Z"
    },
    "papermill": {
     "duration": 0.944257,
     "end_time": "2023-11-28T19:19:49.399740",
     "exception": false,
     "start_time": "2023-11-28T19:19:48.455483",
     "status": "completed"
    },
    "tags": []
   },
   "outputs": [],
   "source": [
    "df_sales.to_feather('train_normalized_data.fth')"
   ]
  },
  {
   "cell_type": "code",
   "execution_count": 32,
   "id": "ac51ca3d",
   "metadata": {
    "execution": {
     "iopub.execute_input": "2023-11-28T19:19:49.433447Z",
     "iopub.status.busy": "2023-11-28T19:19:49.432419Z",
     "iopub.status.idle": "2023-11-28T19:19:49.494535Z",
     "shell.execute_reply": "2023-11-28T19:19:49.493573Z"
    },
    "papermill": {
     "duration": 0.082769,
     "end_time": "2023-11-28T19:19:49.498249",
     "exception": false,
     "start_time": "2023-11-28T19:19:49.415480",
     "status": "completed"
    },
    "tags": []
   },
   "outputs": [],
   "source": [
    "df_test.to_feather('test_normalized_data.fth')"
   ]
  },
  {
   "cell_type": "code",
   "execution_count": 33,
   "id": "e68b80b8",
   "metadata": {
    "execution": {
     "iopub.execute_input": "2023-11-28T19:19:49.532241Z",
     "iopub.status.busy": "2023-11-28T19:19:49.531473Z",
     "iopub.status.idle": "2023-11-28T19:19:49.538571Z",
     "shell.execute_reply": "2023-11-28T19:19:49.537645Z"
    },
    "papermill": {
     "duration": 0.026052,
     "end_time": "2023-11-28T19:19:49.540782",
     "exception": false,
     "start_time": "2023-11-28T19:19:49.514730",
     "status": "completed"
    },
    "tags": []
   },
   "outputs": [
    {
     "data": {
      "text/plain": [
       "5984"
      ]
     },
     "execution_count": 33,
     "metadata": {},
     "output_type": "execute_result"
    }
   ],
   "source": [
    "(df_test['Open'] == 0).sum()"
   ]
  },
  {
   "cell_type": "code",
   "execution_count": 34,
   "id": "7747886e",
   "metadata": {
    "execution": {
     "iopub.execute_input": "2023-11-28T19:19:49.573917Z",
     "iopub.status.busy": "2023-11-28T19:19:49.573147Z",
     "iopub.status.idle": "2023-11-28T19:19:49.582464Z",
     "shell.execute_reply": "2023-11-28T19:19:49.581637Z"
    },
    "papermill": {
     "duration": 0.028806,
     "end_time": "2023-11-28T19:19:49.584749",
     "exception": false,
     "start_time": "2023-11-28T19:19:49.555943",
     "status": "completed"
    },
    "tags": []
   },
   "outputs": [
    {
     "data": {
      "text/plain": [
       "0"
      ]
     },
     "execution_count": 34,
     "metadata": {},
     "output_type": "execute_result"
    }
   ],
   "source": [
    "(df_sales['Open'] == 0).sum()"
   ]
  },
  {
   "cell_type": "code",
   "execution_count": 35,
   "id": "034c0fe8",
   "metadata": {
    "execution": {
     "iopub.execute_input": "2023-11-28T19:19:49.618184Z",
     "iopub.status.busy": "2023-11-28T19:19:49.617521Z",
     "iopub.status.idle": "2023-11-28T19:19:49.626612Z",
     "shell.execute_reply": "2023-11-28T19:19:49.625345Z"
    },
    "papermill": {
     "duration": 0.028987,
     "end_time": "2023-11-28T19:19:49.629382",
     "exception": false,
     "start_time": "2023-11-28T19:19:49.600395",
     "status": "completed"
    },
    "tags": []
   },
   "outputs": [
    {
     "data": {
      "text/plain": [
       "0"
      ]
     },
     "execution_count": 35,
     "metadata": {},
     "output_type": "execute_result"
    }
   ],
   "source": [
    "(df_train['CompetitionDistance'].isna()).sum()"
   ]
  }
 ],
 "metadata": {
  "kaggle": {
   "accelerator": "none",
   "dataSources": [
    {
     "databundleVersionId": 860645,
     "sourceId": 4594,
     "sourceType": "competition"
    },
    {
     "datasetId": 4002026,
     "sourceId": 6965999,
     "sourceType": "datasetVersion"
    }
   ],
   "dockerImageVersionId": 30579,
   "isGpuEnabled": false,
   "isInternetEnabled": true,
   "language": "python",
   "sourceType": "notebook"
  },
  "kernelspec": {
   "display_name": "Python 3",
   "language": "python",
   "name": "python3"
  },
  "language_info": {
   "codemirror_mode": {
    "name": "ipython",
    "version": 3
   },
   "file_extension": ".py",
   "mimetype": "text/x-python",
   "name": "python",
   "nbconvert_exporter": "python",
   "pygments_lexer": "ipython3",
   "version": "3.10.4"
  },
  "papermill": {
   "default_parameters": {},
   "duration": 29.460312,
   "end_time": "2023-11-28T19:19:50.368214",
   "environment_variables": {},
   "exception": null,
   "input_path": "__notebook__.ipynb",
   "output_path": "__notebook__.ipynb",
   "parameters": {},
   "start_time": "2023-11-28T19:19:20.907902",
   "version": "2.4.0"
  }
 },
 "nbformat": 4,
 "nbformat_minor": 5
}
