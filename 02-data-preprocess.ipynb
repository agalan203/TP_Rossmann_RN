{
 "cells": [
  {
   "cell_type": "code",
   "execution_count": 5,
   "id": "514facbe",
   "metadata": {
    "execution": {
     "iopub.execute_input": "2023-11-28T19:17:58.563179Z",
     "iopub.status.busy": "2023-11-28T19:17:58.562258Z",
     "iopub.status.idle": "2023-11-28T19:17:59.493975Z",
     "shell.execute_reply": "2023-11-28T19:17:59.492582Z"
    },
    "papermill": {
     "duration": 0.956831,
     "end_time": "2023-11-28T19:17:59.497233",
     "exception": false,
     "start_time": "2023-11-28T19:17:58.540402",
     "status": "completed"
    },
    "tags": []
   },
   "outputs": [],
   "source": [
    "import pandas as pd\n",
    "import numpy as np\n",
    "import datetime\n",
    "# pip install isoweek\n",
    "from isoweek import Week\n",
    "PATH = 'rossmann/'"
   ]
  },
  {
   "cell_type": "code",
   "execution_count": 6,
   "id": "0bcb7e18",
   "metadata": {
    "execution": {
     "iopub.execute_input": "2023-11-28T19:17:59.539519Z",
     "iopub.status.busy": "2023-11-28T19:17:59.538915Z",
     "iopub.status.idle": "2023-11-28T19:18:01.221197Z",
     "shell.execute_reply": "2023-11-28T19:18:01.219913Z"
    },
    "papermill": {
     "duration": 1.706778,
     "end_time": "2023-11-28T19:18:01.224154",
     "exception": false,
     "start_time": "2023-11-28T19:17:59.517376",
     "status": "completed"
    },
    "tags": []
   },
   "outputs": [],
   "source": [
    "table_names = ['train', 'test', 'store', 'store_states', 'state_names', 'googletrend', 'weather']\n",
    "train, test, store, store_states, state_names, googletrend, weather = dfs = [pd.read_csv(PATH + fname+'.csv', \n",
    "                                                                             low_memory=False) for fname in table_names]"
   ]
  },
  {
   "cell_type": "markdown",
   "id": "af0a58f6",
   "metadata": {
    "papermill": {
     "duration": 0.01987,
     "end_time": "2023-11-28T19:18:01.264633",
     "exception": false,
     "start_time": "2023-11-28T19:18:01.244763",
     "status": "completed"
    },
    "tags": []
   },
   "source": [
    "# Missing data "
   ]
  },
  {
   "cell_type": "code",
   "execution_count": 7,
   "id": "6936c4c1",
   "metadata": {
    "execution": {
     "iopub.execute_input": "2023-11-28T19:18:01.307480Z",
     "iopub.status.busy": "2023-11-28T19:18:01.307019Z",
     "iopub.status.idle": "2023-11-28T19:18:01.313538Z",
     "shell.execute_reply": "2023-11-28T19:18:01.312488Z"
    },
    "papermill": {
     "duration": 0.031009,
     "end_time": "2023-11-28T19:18:01.316263",
     "exception": false,
     "start_time": "2023-11-28T19:18:01.285254",
     "status": "completed"
    },
    "tags": []
   },
   "outputs": [],
   "source": [
    "def get_missing_columns(df):\n",
    "    return list(df.columns[df.describe(include = 'all').loc['count']<len(df)])"
   ]
  },
  {
   "cell_type": "code",
   "execution_count": 8,
   "id": "cd40bbb5",
   "metadata": {
    "execution": {
     "iopub.execute_input": "2023-11-28T19:18:01.359507Z",
     "iopub.status.busy": "2023-11-28T19:18:01.359044Z",
     "iopub.status.idle": "2023-11-28T19:18:02.185950Z",
     "shell.execute_reply": "2023-11-28T19:18:02.184764Z"
    },
    "papermill": {
     "duration": 0.851916,
     "end_time": "2023-11-28T19:18:02.188613",
     "exception": false,
     "start_time": "2023-11-28T19:18:01.336697",
     "status": "completed"
    },
    "tags": []
   },
   "outputs": [
    {
     "name": "stdout",
     "output_type": "stream",
     "text": [
      "train []\n",
      "test ['Open']\n",
      "store ['CompetitionDistance', 'CompetitionOpenSinceMonth', 'CompetitionOpenSinceYear', 'Promo2SinceWeek', 'Promo2SinceYear', 'PromoInterval']\n",
      "store_states []\n",
      "state_names []\n",
      "googletrend []\n",
      "weather ['Max_VisibilityKm', 'Mean_VisibilityKm', 'Min_VisibilitykM', 'Max_Gust_SpeedKm_h', 'CloudCover', 'Events']\n"
     ]
    }
   ],
   "source": [
    "for i, df in enumerate(dfs):\n",
    "    print(table_names[i], get_missing_columns(df))"
   ]
  },
  {
   "cell_type": "code",
   "execution_count": 9,
   "id": "17323cb0",
   "metadata": {
    "execution": {
     "iopub.execute_input": "2023-11-28T19:18:02.230813Z",
     "iopub.status.busy": "2023-11-28T19:18:02.230364Z",
     "iopub.status.idle": "2023-11-28T19:18:02.239362Z",
     "shell.execute_reply": "2023-11-28T19:18:02.237914Z"
    },
    "papermill": {
     "duration": 0.032967,
     "end_time": "2023-11-28T19:18:02.241743",
     "exception": false,
     "start_time": "2023-11-28T19:18:02.208776",
     "status": "completed"
    },
    "tags": []
   },
   "outputs": [],
   "source": [
    "# Si no es dia 7 esta abierto - Verificado que el store 622 esta usualmente cerrado el día 7\n",
    "test.loc[test['Open'].isna(), 'Open'] = (test[test['Open'].isna()]['DayOfWeek'] != 7)*1.0"
   ]
  },
  {
   "cell_type": "code",
   "execution_count": 10,
   "id": "18d84c2a",
   "metadata": {
    "execution": {
     "iopub.execute_input": "2023-11-28T19:18:02.284456Z",
     "iopub.status.busy": "2023-11-28T19:18:02.283232Z",
     "iopub.status.idle": "2023-11-28T19:18:02.294483Z",
     "shell.execute_reply": "2023-11-28T19:18:02.293341Z"
    },
    "papermill": {
     "duration": 0.035578,
     "end_time": "2023-11-28T19:18:02.297353",
     "exception": false,
     "start_time": "2023-11-28T19:18:02.261775",
     "status": "completed"
    },
    "tags": []
   },
   "outputs": [],
   "source": [
    "# Fechas de las mas antiguas segun datos y tambien las fechas anteriores las pongo como minimo en 1990\n",
    "store.loc[store['CompetitionOpenSinceYear'].isna() | (store['CompetitionOpenSinceYear']<1990), 'CompetitionOpenSinceYear'] = np.int32(1990)\n",
    "store.loc[store['CompetitionOpenSinceMonth'].isna() | (store['CompetitionOpenSinceYear']<1990), 'CompetitionOpenSinceMonth'] = np.int32(1)"
   ]
  },
  {
   "cell_type": "code",
   "execution_count": 11,
   "id": "2c03c58d",
   "metadata": {
    "execution": {
     "iopub.execute_input": "2023-11-28T19:18:02.340504Z",
     "iopub.status.busy": "2023-11-28T19:18:02.340066Z",
     "iopub.status.idle": "2023-11-28T19:18:02.349143Z",
     "shell.execute_reply": "2023-11-28T19:18:02.347994Z"
    },
    "papermill": {
     "duration": 0.033906,
     "end_time": "2023-11-28T19:18:02.352730",
     "exception": false,
     "start_time": "2023-11-28T19:18:02.318824",
     "status": "completed"
    },
    "tags": []
   },
   "outputs": [
    {
     "name": "stdout",
     "output_type": "stream",
     "text": [
      "75860.0 5404.901079136691 20.0\n"
     ]
    }
   ],
   "source": [
    "# Si no tengo la distancia, supongo que no hay (Como si estuviera lejos)\n",
    "print(store['CompetitionDistance'].max(), store['CompetitionDistance'].mean(), store['CompetitionDistance'].min())\n",
    "store.loc[store['CompetitionDistance'].isna(), 'CompetitionDistance'] = store['CompetitionDistance'].max()"
   ]
  },
  {
   "cell_type": "code",
   "execution_count": 12,
   "id": "06da7ef0",
   "metadata": {
    "execution": {
     "iopub.execute_input": "2023-11-28T19:18:02.395915Z",
     "iopub.status.busy": "2023-11-28T19:18:02.395509Z",
     "iopub.status.idle": "2023-11-28T19:18:02.407803Z",
     "shell.execute_reply": "2023-11-28T19:18:02.406743Z"
    },
    "papermill": {
     "duration": 0.036963,
     "end_time": "2023-11-28T19:18:02.410564",
     "exception": false,
     "start_time": "2023-11-28T19:18:02.373601",
     "status": "completed"
    },
    "tags": []
   },
   "outputs": [],
   "source": [
    "# Si no tiene Promo2 entonces la semana en donde empezo es cero. Esto será tratado como categórica por eso tiene sentido\n",
    "store.loc[store['Promo2SinceWeek'].isna() & (store['Promo2'] == 0), 'Promo2SinceWeek'] = np.int32(1)\n",
    "store.loc[store['Promo2SinceYear'].isna() & (store['Promo2'] == 0), 'Promo2SinceYear'] = np.int32(1990)\n",
    "store.loc[store['PromoInterval'].isna() & (store['Promo2'] == 0), 'PromoInterval'] = '-'"
   ]
  },
  {
   "cell_type": "code",
   "execution_count": 13,
   "id": "07ec40c5",
   "metadata": {
    "execution": {
     "iopub.execute_input": "2023-11-28T19:18:02.518231Z",
     "iopub.status.busy": "2023-11-28T19:18:02.517830Z",
     "iopub.status.idle": "2023-11-28T19:18:02.535009Z",
     "shell.execute_reply": "2023-11-28T19:18:02.533899Z"
    },
    "papermill": {
     "duration": 0.106529,
     "end_time": "2023-11-28T19:18:02.537623",
     "exception": false,
     "start_time": "2023-11-28T19:18:02.431094",
     "status": "completed"
    },
    "tags": []
   },
   "outputs": [],
   "source": [
    "# Supongo que son dias tranquilos (de todas formas no se usaran para la predicción)\n",
    "weather.loc[weather['Max_VisibilityKm'].isna(), 'Max_VisibilityKm'] = weather['Max_VisibilityKm'].max()\n",
    "weather.loc[weather['Mean_VisibilityKm'].isna(), 'Mean_VisibilityKm'] = weather['Mean_VisibilityKm'].max()\n",
    "weather.loc[weather['Min_VisibilitykM'].isna(), 'Min_VisibilitykM'] = weather['Min_VisibilitykM'].max()\n",
    "weather.loc[weather['Max_Gust_SpeedKm_h'].isna(), 'Max_Gust_SpeedKm_h'] = weather['Max_Gust_SpeedKm_h'].min()\n",
    "weather.loc[weather['CloudCover'].isna(), 'CloudCover'] = weather['CloudCover'].min()\n",
    "weather.loc[weather['Events'].isna(), 'Events'] = 'Sunny'"
   ]
  },
  {
   "cell_type": "code",
   "execution_count": 14,
   "id": "23fae75c",
   "metadata": {
    "execution": {
     "iopub.execute_input": "2023-11-28T19:18:02.581889Z",
     "iopub.status.busy": "2023-11-28T19:18:02.581480Z",
     "iopub.status.idle": "2023-11-28T19:18:03.376198Z",
     "shell.execute_reply": "2023-11-28T19:18:03.374502Z"
    },
    "papermill": {
     "duration": 0.81985,
     "end_time": "2023-11-28T19:18:03.379696",
     "exception": false,
     "start_time": "2023-11-28T19:18:02.559846",
     "status": "completed"
    },
    "tags": []
   },
   "outputs": [
    {
     "name": "stdout",
     "output_type": "stream",
     "text": [
      "train []\n",
      "test []\n",
      "store []\n",
      "store_states []\n",
      "state_names []\n",
      "googletrend []\n",
      "weather []\n"
     ]
    }
   ],
   "source": [
    "for i, df in enumerate(dfs):\n",
    "    print(table_names[i], get_missing_columns(df))"
   ]
  },
  {
   "cell_type": "markdown",
   "id": "30148881",
   "metadata": {
    "papermill": {
     "duration": 0.019865,
     "end_time": "2023-11-28T19:18:03.420260",
     "exception": false,
     "start_time": "2023-11-28T19:18:03.400395",
     "status": "completed"
    },
    "tags": []
   },
   "source": [
    "# Paso a fecha algunas columnas para despues poder ponerla en días respecto a fecha"
   ]
  },
  {
   "cell_type": "code",
   "execution_count": 15,
   "id": "83af84b0",
   "metadata": {
    "execution": {
     "iopub.execute_input": "2023-11-28T19:18:03.462634Z",
     "iopub.status.busy": "2023-11-28T19:18:03.462166Z",
     "iopub.status.idle": "2023-11-28T19:18:03.471727Z",
     "shell.execute_reply": "2023-11-28T19:18:03.470554Z"
    },
    "papermill": {
     "duration": 0.033845,
     "end_time": "2023-11-28T19:18:03.474345",
     "exception": false,
     "start_time": "2023-11-28T19:18:03.440500",
     "status": "completed"
    },
    "tags": []
   },
   "outputs": [],
   "source": [
    "store['CompetitionOpenSinceYear'] = store['CompetitionOpenSinceYear'].astype(np.int32)\n",
    "store['CompetitionOpenSinceMonth'] = store['CompetitionOpenSinceMonth'].astype(np.int32)\n",
    "store['Promo2SinceWeek'] = store['Promo2SinceWeek'].astype(np.int32)\n",
    "store['Promo2SinceYear'] = store['Promo2SinceYear'].astype(np.int32)"
   ]
  },
  {
   "cell_type": "code",
   "execution_count": 16,
   "id": "a05a1f70",
   "metadata": {
    "execution": {
     "iopub.execute_input": "2023-11-28T19:18:03.517511Z",
     "iopub.status.busy": "2023-11-28T19:18:03.517043Z",
     "iopub.status.idle": "2023-11-28T19:18:03.571702Z",
     "shell.execute_reply": "2023-11-28T19:18:03.570370Z"
    },
    "papermill": {
     "duration": 0.079126,
     "end_time": "2023-11-28T19:18:03.574390",
     "exception": false,
     "start_time": "2023-11-28T19:18:03.495264",
     "status": "completed"
    },
    "tags": []
   },
   "outputs": [],
   "source": [
    "# Creo una nueva columna con fecha de apertura en formato de fecha (dia 15 por que no tengo el dato y no es relevante)\n",
    "store['CompetitionOpenSince'] = pd.to_datetime(store.apply(lambda x: datetime.datetime(\n",
    "    x.CompetitionOpenSinceYear, x.CompetitionOpenSinceMonth, 15), axis=1))"
   ]
  },
  {
   "cell_type": "code",
   "execution_count": 17,
   "id": "bb92b02b",
   "metadata": {
    "execution": {
     "iopub.execute_input": "2023-11-28T19:18:03.617809Z",
     "iopub.status.busy": "2023-11-28T19:18:03.617397Z",
     "iopub.status.idle": "2023-11-28T19:18:03.672410Z",
     "shell.execute_reply": "2023-11-28T19:18:03.671223Z"
    },
    "papermill": {
     "duration": 0.079924,
     "end_time": "2023-11-28T19:18:03.675132",
     "exception": false,
     "start_time": "2023-11-28T19:18:03.595208",
     "status": "completed"
    },
    "tags": []
   },
   "outputs": [],
   "source": [
    "store[\"Promo2Since\"] = pd.to_datetime(store.apply(lambda x: Week(\n",
    "    x.Promo2SinceYear, x.Promo2SinceWeek).monday(), axis=1))"
   ]
  },
  {
   "cell_type": "markdown",
   "id": "2fd3b9f2",
   "metadata": {
    "papermill": {
     "duration": 0.021512,
     "end_time": "2023-11-28T19:18:03.717947",
     "exception": false,
     "start_time": "2023-11-28T19:18:03.696435",
     "status": "completed"
    },
    "tags": []
   },
   "source": [
    "# Función para hacer el join"
   ]
  },
  {
   "cell_type": "code",
   "execution_count": 18,
   "id": "af9e7bb9",
   "metadata": {
    "execution": {
     "iopub.execute_input": "2023-11-28T19:18:03.762114Z",
     "iopub.status.busy": "2023-11-28T19:18:03.761265Z",
     "iopub.status.idle": "2023-11-28T19:18:03.767032Z",
     "shell.execute_reply": "2023-11-28T19:18:03.765860Z"
    },
    "papermill": {
     "duration": 0.031301,
     "end_time": "2023-11-28T19:18:03.769562",
     "exception": false,
     "start_time": "2023-11-28T19:18:03.738261",
     "status": "completed"
    },
    "tags": []
   },
   "outputs": [],
   "source": [
    "def join_df(left, right, left_on, right_on=None):\n",
    "    if right_on is None: right_on = left_on\n",
    "    return left.merge(right, how='left', left_on=left_on, right_on=right_on, \n",
    "                      suffixes=(\"\", \"_y\"))"
   ]
  },
  {
   "cell_type": "markdown",
   "id": "15830ec6",
   "metadata": {
    "papermill": {
     "duration": 0.019902,
     "end_time": "2023-11-28T19:18:03.809842",
     "exception": false,
     "start_time": "2023-11-28T19:18:03.789940",
     "status": "completed"
    },
    "tags": []
   },
   "source": [
    "## Join entre weather y states_names"
   ]
  },
  {
   "cell_type": "code",
   "execution_count": 19,
   "id": "76b70345",
   "metadata": {
    "execution": {
     "iopub.execute_input": "2023-11-28T19:18:03.854008Z",
     "iopub.status.busy": "2023-11-28T19:18:03.853211Z",
     "iopub.status.idle": "2023-11-28T19:18:03.861198Z",
     "shell.execute_reply": "2023-11-28T19:18:03.860388Z"
    },
    "papermill": {
     "duration": 0.033422,
     "end_time": "2023-11-28T19:18:03.863669",
     "exception": false,
     "start_time": "2023-11-28T19:18:03.830247",
     "status": "completed"
    },
    "tags": []
   },
   "outputs": [
    {
     "data": {
      "text/plain": [
       "Index(['file', 'Date', 'Max_TemperatureC', 'Mean_TemperatureC',\n",
       "       'Min_TemperatureC', 'Dew_PointC', 'MeanDew_PointC', 'Min_DewpointC',\n",
       "       'Max_Humidity', 'Mean_Humidity', 'Min_Humidity',\n",
       "       'Max_Sea_Level_PressurehPa', 'Mean_Sea_Level_PressurehPa',\n",
       "       'Min_Sea_Level_PressurehPa', 'Max_VisibilityKm', 'Mean_VisibilityKm',\n",
       "       'Min_VisibilitykM', 'Max_Wind_SpeedKm_h', 'Mean_Wind_SpeedKm_h',\n",
       "       'Max_Gust_SpeedKm_h', 'Precipitationmm', 'CloudCover', 'Events',\n",
       "       'WindDirDegrees'],\n",
       "      dtype='object')"
      ]
     },
     "execution_count": 19,
     "metadata": {},
     "output_type": "execute_result"
    }
   ],
   "source": [
    "weather.columns"
   ]
  },
  {
   "cell_type": "code",
   "execution_count": 20,
   "id": "964435c2",
   "metadata": {
    "execution": {
     "iopub.execute_input": "2023-11-28T19:18:03.906873Z",
     "iopub.status.busy": "2023-11-28T19:18:03.906105Z",
     "iopub.status.idle": "2023-11-28T19:18:03.918193Z",
     "shell.execute_reply": "2023-11-28T19:18:03.917080Z"
    },
    "papermill": {
     "duration": 0.036412,
     "end_time": "2023-11-28T19:18:03.920535",
     "exception": false,
     "start_time": "2023-11-28T19:18:03.884123",
     "status": "completed"
    },
    "tags": []
   },
   "outputs": [
    {
     "data": {
      "text/plain": [
       "NordrheinWestfalen       990\n",
       "Niedersachsen            990\n",
       "Bayern                   990\n",
       "Bremen                   990\n",
       "Brandenburg              990\n",
       "SachsenAnhalt            990\n",
       "Sachsen                  990\n",
       "Hessen                   990\n",
       "MecklenburgVorpommern    990\n",
       "RheinlandPfalz           990\n",
       "BadenWuerttemberg        990\n",
       "Berlin                   990\n",
       "Hamburg                  990\n",
       "SchleswigHolstein        990\n",
       "Thueringen               990\n",
       "Saarland                 990\n",
       "Name: file, dtype: int64"
      ]
     },
     "execution_count": 20,
     "metadata": {},
     "output_type": "execute_result"
    }
   ],
   "source": [
    "weather['file'].value_counts()"
   ]
  },
  {
   "cell_type": "code",
   "execution_count": 21,
   "id": "358ef224",
   "metadata": {
    "execution": {
     "iopub.execute_input": "2023-11-28T19:18:03.964489Z",
     "iopub.status.busy": "2023-11-28T19:18:03.963148Z",
     "iopub.status.idle": "2023-11-28T19:18:03.980114Z",
     "shell.execute_reply": "2023-11-28T19:18:03.978632Z"
    },
    "papermill": {
     "duration": 0.041963,
     "end_time": "2023-11-28T19:18:03.983036",
     "exception": false,
     "start_time": "2023-11-28T19:18:03.941073",
     "status": "completed"
    },
    "tags": []
   },
   "outputs": [
    {
     "data": {
      "text/html": [
       "<div>\n",
       "<style scoped>\n",
       "    .dataframe tbody tr th:only-of-type {\n",
       "        vertical-align: middle;\n",
       "    }\n",
       "\n",
       "    .dataframe tbody tr th {\n",
       "        vertical-align: top;\n",
       "    }\n",
       "\n",
       "    .dataframe thead th {\n",
       "        text-align: right;\n",
       "    }\n",
       "</style>\n",
       "<table border=\"1\" class=\"dataframe\">\n",
       "  <thead>\n",
       "    <tr style=\"text-align: right;\">\n",
       "      <th></th>\n",
       "      <th>StateName</th>\n",
       "      <th>State</th>\n",
       "    </tr>\n",
       "  </thead>\n",
       "  <tbody>\n",
       "    <tr>\n",
       "      <th>0</th>\n",
       "      <td>BadenWuerttemberg</td>\n",
       "      <td>BW</td>\n",
       "    </tr>\n",
       "    <tr>\n",
       "      <th>1</th>\n",
       "      <td>Bayern</td>\n",
       "      <td>BY</td>\n",
       "    </tr>\n",
       "    <tr>\n",
       "      <th>2</th>\n",
       "      <td>Berlin</td>\n",
       "      <td>BE</td>\n",
       "    </tr>\n",
       "    <tr>\n",
       "      <th>3</th>\n",
       "      <td>Brandenburg</td>\n",
       "      <td>BB</td>\n",
       "    </tr>\n",
       "    <tr>\n",
       "      <th>4</th>\n",
       "      <td>Bremen</td>\n",
       "      <td>HB</td>\n",
       "    </tr>\n",
       "    <tr>\n",
       "      <th>5</th>\n",
       "      <td>Hamburg</td>\n",
       "      <td>HH</td>\n",
       "    </tr>\n",
       "    <tr>\n",
       "      <th>6</th>\n",
       "      <td>Hessen</td>\n",
       "      <td>HE</td>\n",
       "    </tr>\n",
       "    <tr>\n",
       "      <th>7</th>\n",
       "      <td>MecklenburgVorpommern</td>\n",
       "      <td>MV</td>\n",
       "    </tr>\n",
       "    <tr>\n",
       "      <th>8</th>\n",
       "      <td>Niedersachsen</td>\n",
       "      <td>HB,NI</td>\n",
       "    </tr>\n",
       "    <tr>\n",
       "      <th>9</th>\n",
       "      <td>NordrheinWestfalen</td>\n",
       "      <td>NW</td>\n",
       "    </tr>\n",
       "    <tr>\n",
       "      <th>10</th>\n",
       "      <td>RheinlandPfalz</td>\n",
       "      <td>RP</td>\n",
       "    </tr>\n",
       "    <tr>\n",
       "      <th>11</th>\n",
       "      <td>Saarland</td>\n",
       "      <td>SL</td>\n",
       "    </tr>\n",
       "    <tr>\n",
       "      <th>12</th>\n",
       "      <td>Sachsen</td>\n",
       "      <td>SN</td>\n",
       "    </tr>\n",
       "    <tr>\n",
       "      <th>13</th>\n",
       "      <td>SachsenAnhalt</td>\n",
       "      <td>ST</td>\n",
       "    </tr>\n",
       "    <tr>\n",
       "      <th>14</th>\n",
       "      <td>SchleswigHolstein</td>\n",
       "      <td>SH</td>\n",
       "    </tr>\n",
       "    <tr>\n",
       "      <th>15</th>\n",
       "      <td>Thueringen</td>\n",
       "      <td>TH</td>\n",
       "    </tr>\n",
       "  </tbody>\n",
       "</table>\n",
       "</div>"
      ],
      "text/plain": [
       "                StateName  State\n",
       "0       BadenWuerttemberg     BW\n",
       "1                  Bayern     BY\n",
       "2                  Berlin     BE\n",
       "3             Brandenburg     BB\n",
       "4                  Bremen     HB\n",
       "5                 Hamburg     HH\n",
       "6                  Hessen     HE\n",
       "7   MecklenburgVorpommern     MV\n",
       "8           Niedersachsen  HB,NI\n",
       "9      NordrheinWestfalen     NW\n",
       "10         RheinlandPfalz     RP\n",
       "11               Saarland     SL\n",
       "12                Sachsen     SN\n",
       "13          SachsenAnhalt     ST\n",
       "14      SchleswigHolstein     SH\n",
       "15             Thueringen     TH"
      ]
     },
     "execution_count": 21,
     "metadata": {},
     "output_type": "execute_result"
    }
   ],
   "source": [
    "state_names"
   ]
  },
  {
   "cell_type": "code",
   "execution_count": 22,
   "id": "78f912b2",
   "metadata": {
    "execution": {
     "iopub.execute_input": "2023-11-28T19:18:04.028673Z",
     "iopub.status.busy": "2023-11-28T19:18:04.028236Z",
     "iopub.status.idle": "2023-11-28T19:18:04.044974Z",
     "shell.execute_reply": "2023-11-28T19:18:04.043999Z"
    },
    "papermill": {
     "duration": 0.042961,
     "end_time": "2023-11-28T19:18:04.047589",
     "exception": false,
     "start_time": "2023-11-28T19:18:04.004628",
     "status": "completed"
    },
    "tags": []
   },
   "outputs": [],
   "source": [
    "weather = join_df(weather, state_names, \"file\", \"StateName\")"
   ]
  },
  {
   "cell_type": "code",
   "execution_count": 23,
   "id": "65cf30f0",
   "metadata": {
    "execution": {
     "iopub.execute_input": "2023-11-28T19:18:04.092456Z",
     "iopub.status.busy": "2023-11-28T19:18:04.091323Z",
     "iopub.status.idle": "2023-11-28T19:18:04.098792Z",
     "shell.execute_reply": "2023-11-28T19:18:04.097665Z"
    },
    "papermill": {
     "duration": 0.032494,
     "end_time": "2023-11-28T19:18:04.101390",
     "exception": false,
     "start_time": "2023-11-28T19:18:04.068896",
     "status": "completed"
    },
    "tags": []
   },
   "outputs": [
    {
     "data": {
      "text/plain": [
       "Index(['file', 'Date', 'Max_TemperatureC', 'Mean_TemperatureC',\n",
       "       'Min_TemperatureC', 'Dew_PointC', 'MeanDew_PointC', 'Min_DewpointC',\n",
       "       'Max_Humidity', 'Mean_Humidity', 'Min_Humidity',\n",
       "       'Max_Sea_Level_PressurehPa', 'Mean_Sea_Level_PressurehPa',\n",
       "       'Min_Sea_Level_PressurehPa', 'Max_VisibilityKm', 'Mean_VisibilityKm',\n",
       "       'Min_VisibilitykM', 'Max_Wind_SpeedKm_h', 'Mean_Wind_SpeedKm_h',\n",
       "       'Max_Gust_SpeedKm_h', 'Precipitationmm', 'CloudCover', 'Events',\n",
       "       'WindDirDegrees', 'StateName', 'State'],\n",
       "      dtype='object')"
      ]
     },
     "execution_count": 23,
     "metadata": {},
     "output_type": "execute_result"
    }
   ],
   "source": [
    "weather.columns"
   ]
  },
  {
   "cell_type": "markdown",
   "id": "eb11e023",
   "metadata": {
    "papermill": {
     "duration": 0.020833,
     "end_time": "2023-11-28T19:18:04.143596",
     "exception": false,
     "start_time": "2023-11-28T19:18:04.122763",
     "status": "completed"
    },
    "tags": []
   },
   "source": [
    "Notar como se agregaron las columnas"
   ]
  },
  {
   "cell_type": "markdown",
   "id": "b868a3f5",
   "metadata": {
    "papermill": {
     "duration": 0.020798,
     "end_time": "2023-11-28T19:18:04.185572",
     "exception": false,
     "start_time": "2023-11-28T19:18:04.164774",
     "status": "completed"
    },
    "tags": []
   },
   "source": [
    "## Preprocess googletrend"
   ]
  },
  {
   "cell_type": "code",
   "execution_count": 24,
   "id": "0e9ff419",
   "metadata": {
    "execution": {
     "iopub.execute_input": "2023-11-28T19:18:04.229607Z",
     "iopub.status.busy": "2023-11-28T19:18:04.228930Z",
     "iopub.status.idle": "2023-11-28T19:18:04.241478Z",
     "shell.execute_reply": "2023-11-28T19:18:04.240159Z"
    },
    "papermill": {
     "duration": 0.037946,
     "end_time": "2023-11-28T19:18:04.244489",
     "exception": false,
     "start_time": "2023-11-28T19:18:04.206543",
     "status": "completed"
    },
    "tags": []
   },
   "outputs": [
    {
     "data": {
      "text/html": [
       "<div>\n",
       "<style scoped>\n",
       "    .dataframe tbody tr th:only-of-type {\n",
       "        vertical-align: middle;\n",
       "    }\n",
       "\n",
       "    .dataframe tbody tr th {\n",
       "        vertical-align: top;\n",
       "    }\n",
       "\n",
       "    .dataframe thead th {\n",
       "        text-align: right;\n",
       "    }\n",
       "</style>\n",
       "<table border=\"1\" class=\"dataframe\">\n",
       "  <thead>\n",
       "    <tr style=\"text-align: right;\">\n",
       "      <th></th>\n",
       "      <th>file</th>\n",
       "      <th>week</th>\n",
       "      <th>trend</th>\n",
       "    </tr>\n",
       "  </thead>\n",
       "  <tbody>\n",
       "    <tr>\n",
       "      <th>0</th>\n",
       "      <td>Rossmann_DE_SN</td>\n",
       "      <td>2012-12-02 - 2012-12-08</td>\n",
       "      <td>96</td>\n",
       "    </tr>\n",
       "    <tr>\n",
       "      <th>1</th>\n",
       "      <td>Rossmann_DE_SN</td>\n",
       "      <td>2012-12-09 - 2012-12-15</td>\n",
       "      <td>95</td>\n",
       "    </tr>\n",
       "    <tr>\n",
       "      <th>2</th>\n",
       "      <td>Rossmann_DE_SN</td>\n",
       "      <td>2012-12-16 - 2012-12-22</td>\n",
       "      <td>91</td>\n",
       "    </tr>\n",
       "    <tr>\n",
       "      <th>3</th>\n",
       "      <td>Rossmann_DE_SN</td>\n",
       "      <td>2012-12-23 - 2012-12-29</td>\n",
       "      <td>48</td>\n",
       "    </tr>\n",
       "    <tr>\n",
       "      <th>4</th>\n",
       "      <td>Rossmann_DE_SN</td>\n",
       "      <td>2012-12-30 - 2013-01-05</td>\n",
       "      <td>67</td>\n",
       "    </tr>\n",
       "  </tbody>\n",
       "</table>\n",
       "</div>"
      ],
      "text/plain": [
       "             file                     week  trend\n",
       "0  Rossmann_DE_SN  2012-12-02 - 2012-12-08     96\n",
       "1  Rossmann_DE_SN  2012-12-09 - 2012-12-15     95\n",
       "2  Rossmann_DE_SN  2012-12-16 - 2012-12-22     91\n",
       "3  Rossmann_DE_SN  2012-12-23 - 2012-12-29     48\n",
       "4  Rossmann_DE_SN  2012-12-30 - 2013-01-05     67"
      ]
     },
     "execution_count": 24,
     "metadata": {},
     "output_type": "execute_result"
    }
   ],
   "source": [
    "googletrend.head()"
   ]
  },
  {
   "cell_type": "code",
   "execution_count": 25,
   "id": "536bb779",
   "metadata": {
    "execution": {
     "iopub.execute_input": "2023-11-28T19:18:04.290128Z",
     "iopub.status.busy": "2023-11-28T19:18:04.288937Z",
     "iopub.status.idle": "2023-11-28T19:18:04.301400Z",
     "shell.execute_reply": "2023-11-28T19:18:04.300044Z"
    },
    "papermill": {
     "duration": 0.037912,
     "end_time": "2023-11-28T19:18:04.303951",
     "exception": false,
     "start_time": "2023-11-28T19:18:04.266039",
     "status": "completed"
    },
    "tags": []
   },
   "outputs": [],
   "source": [
    "# Armo columan date con el primer día de la semana\n",
    "googletrend['Date'] = googletrend.week.str.split(' - ', expand=True)[0]"
   ]
  },
  {
   "cell_type": "code",
   "execution_count": 26,
   "id": "b1f82406",
   "metadata": {
    "execution": {
     "iopub.execute_input": "2023-11-28T19:18:04.350815Z",
     "iopub.status.busy": "2023-11-28T19:18:04.349694Z",
     "iopub.status.idle": "2023-11-28T19:18:04.362525Z",
     "shell.execute_reply": "2023-11-28T19:18:04.361213Z"
    },
    "papermill": {
     "duration": 0.039047,
     "end_time": "2023-11-28T19:18:04.364992",
     "exception": false,
     "start_time": "2023-11-28T19:18:04.325945",
     "status": "completed"
    },
    "tags": []
   },
   "outputs": [
    {
     "data": {
      "text/html": [
       "<div>\n",
       "<style scoped>\n",
       "    .dataframe tbody tr th:only-of-type {\n",
       "        vertical-align: middle;\n",
       "    }\n",
       "\n",
       "    .dataframe tbody tr th {\n",
       "        vertical-align: top;\n",
       "    }\n",
       "\n",
       "    .dataframe thead th {\n",
       "        text-align: right;\n",
       "    }\n",
       "</style>\n",
       "<table border=\"1\" class=\"dataframe\">\n",
       "  <thead>\n",
       "    <tr style=\"text-align: right;\">\n",
       "      <th></th>\n",
       "      <th>file</th>\n",
       "      <th>week</th>\n",
       "      <th>trend</th>\n",
       "      <th>Date</th>\n",
       "    </tr>\n",
       "  </thead>\n",
       "  <tbody>\n",
       "    <tr>\n",
       "      <th>0</th>\n",
       "      <td>Rossmann_DE_SN</td>\n",
       "      <td>2012-12-02 - 2012-12-08</td>\n",
       "      <td>96</td>\n",
       "      <td>2012-12-02</td>\n",
       "    </tr>\n",
       "    <tr>\n",
       "      <th>1</th>\n",
       "      <td>Rossmann_DE_SN</td>\n",
       "      <td>2012-12-09 - 2012-12-15</td>\n",
       "      <td>95</td>\n",
       "      <td>2012-12-09</td>\n",
       "    </tr>\n",
       "    <tr>\n",
       "      <th>2</th>\n",
       "      <td>Rossmann_DE_SN</td>\n",
       "      <td>2012-12-16 - 2012-12-22</td>\n",
       "      <td>91</td>\n",
       "      <td>2012-12-16</td>\n",
       "    </tr>\n",
       "    <tr>\n",
       "      <th>3</th>\n",
       "      <td>Rossmann_DE_SN</td>\n",
       "      <td>2012-12-23 - 2012-12-29</td>\n",
       "      <td>48</td>\n",
       "      <td>2012-12-23</td>\n",
       "    </tr>\n",
       "    <tr>\n",
       "      <th>4</th>\n",
       "      <td>Rossmann_DE_SN</td>\n",
       "      <td>2012-12-30 - 2013-01-05</td>\n",
       "      <td>67</td>\n",
       "      <td>2012-12-30</td>\n",
       "    </tr>\n",
       "  </tbody>\n",
       "</table>\n",
       "</div>"
      ],
      "text/plain": [
       "             file                     week  trend        Date\n",
       "0  Rossmann_DE_SN  2012-12-02 - 2012-12-08     96  2012-12-02\n",
       "1  Rossmann_DE_SN  2012-12-09 - 2012-12-15     95  2012-12-09\n",
       "2  Rossmann_DE_SN  2012-12-16 - 2012-12-22     91  2012-12-16\n",
       "3  Rossmann_DE_SN  2012-12-23 - 2012-12-29     48  2012-12-23\n",
       "4  Rossmann_DE_SN  2012-12-30 - 2013-01-05     67  2012-12-30"
      ]
     },
     "execution_count": 26,
     "metadata": {},
     "output_type": "execute_result"
    }
   ],
   "source": [
    "googletrend.head()"
   ]
  },
  {
   "cell_type": "code",
   "execution_count": 27,
   "id": "3144b7bf",
   "metadata": {
    "execution": {
     "iopub.execute_input": "2023-11-28T19:18:04.410209Z",
     "iopub.status.busy": "2023-11-28T19:18:04.409833Z",
     "iopub.status.idle": "2023-11-28T19:18:04.421453Z",
     "shell.execute_reply": "2023-11-28T19:18:04.420077Z"
    },
    "papermill": {
     "duration": 0.037581,
     "end_time": "2023-11-28T19:18:04.424219",
     "exception": false,
     "start_time": "2023-11-28T19:18:04.386638",
     "status": "completed"
    },
    "tags": []
   },
   "outputs": [],
   "source": [
    "# Armo columna de State con el nomnre del estado\n",
    "googletrend['State'] = googletrend.file.str.split('_', expand=True)[2]"
   ]
  },
  {
   "cell_type": "code",
   "execution_count": 28,
   "id": "268d2f54",
   "metadata": {
    "execution": {
     "iopub.execute_input": "2023-11-28T19:18:04.470756Z",
     "iopub.status.busy": "2023-11-28T19:18:04.470278Z",
     "iopub.status.idle": "2023-11-28T19:18:04.482720Z",
     "shell.execute_reply": "2023-11-28T19:18:04.481842Z"
    },
    "papermill": {
     "duration": 0.038146,
     "end_time": "2023-11-28T19:18:04.485016",
     "exception": false,
     "start_time": "2023-11-28T19:18:04.446870",
     "status": "completed"
    },
    "tags": []
   },
   "outputs": [
    {
     "data": {
      "text/html": [
       "<div>\n",
       "<style scoped>\n",
       "    .dataframe tbody tr th:only-of-type {\n",
       "        vertical-align: middle;\n",
       "    }\n",
       "\n",
       "    .dataframe tbody tr th {\n",
       "        vertical-align: top;\n",
       "    }\n",
       "\n",
       "    .dataframe thead th {\n",
       "        text-align: right;\n",
       "    }\n",
       "</style>\n",
       "<table border=\"1\" class=\"dataframe\">\n",
       "  <thead>\n",
       "    <tr style=\"text-align: right;\">\n",
       "      <th></th>\n",
       "      <th>file</th>\n",
       "      <th>week</th>\n",
       "      <th>trend</th>\n",
       "      <th>Date</th>\n",
       "      <th>State</th>\n",
       "    </tr>\n",
       "  </thead>\n",
       "  <tbody>\n",
       "    <tr>\n",
       "      <th>0</th>\n",
       "      <td>Rossmann_DE_SN</td>\n",
       "      <td>2012-12-02 - 2012-12-08</td>\n",
       "      <td>96</td>\n",
       "      <td>2012-12-02</td>\n",
       "      <td>SN</td>\n",
       "    </tr>\n",
       "    <tr>\n",
       "      <th>1</th>\n",
       "      <td>Rossmann_DE_SN</td>\n",
       "      <td>2012-12-09 - 2012-12-15</td>\n",
       "      <td>95</td>\n",
       "      <td>2012-12-09</td>\n",
       "      <td>SN</td>\n",
       "    </tr>\n",
       "    <tr>\n",
       "      <th>2</th>\n",
       "      <td>Rossmann_DE_SN</td>\n",
       "      <td>2012-12-16 - 2012-12-22</td>\n",
       "      <td>91</td>\n",
       "      <td>2012-12-16</td>\n",
       "      <td>SN</td>\n",
       "    </tr>\n",
       "    <tr>\n",
       "      <th>3</th>\n",
       "      <td>Rossmann_DE_SN</td>\n",
       "      <td>2012-12-23 - 2012-12-29</td>\n",
       "      <td>48</td>\n",
       "      <td>2012-12-23</td>\n",
       "      <td>SN</td>\n",
       "    </tr>\n",
       "    <tr>\n",
       "      <th>4</th>\n",
       "      <td>Rossmann_DE_SN</td>\n",
       "      <td>2012-12-30 - 2013-01-05</td>\n",
       "      <td>67</td>\n",
       "      <td>2012-12-30</td>\n",
       "      <td>SN</td>\n",
       "    </tr>\n",
       "  </tbody>\n",
       "</table>\n",
       "</div>"
      ],
      "text/plain": [
       "             file                     week  trend        Date State\n",
       "0  Rossmann_DE_SN  2012-12-02 - 2012-12-08     96  2012-12-02    SN\n",
       "1  Rossmann_DE_SN  2012-12-09 - 2012-12-15     95  2012-12-09    SN\n",
       "2  Rossmann_DE_SN  2012-12-16 - 2012-12-22     91  2012-12-16    SN\n",
       "3  Rossmann_DE_SN  2012-12-23 - 2012-12-29     48  2012-12-23    SN\n",
       "4  Rossmann_DE_SN  2012-12-30 - 2013-01-05     67  2012-12-30    SN"
      ]
     },
     "execution_count": 28,
     "metadata": {},
     "output_type": "execute_result"
    }
   ],
   "source": [
    "googletrend.head()"
   ]
  },
  {
   "cell_type": "code",
   "execution_count": 29,
   "id": "d4006fdf",
   "metadata": {
    "execution": {
     "iopub.execute_input": "2023-11-28T19:18:04.532961Z",
     "iopub.status.busy": "2023-11-28T19:18:04.532080Z",
     "iopub.status.idle": "2023-11-28T19:18:04.543279Z",
     "shell.execute_reply": "2023-11-28T19:18:04.541903Z"
    },
    "papermill": {
     "duration": 0.038152,
     "end_time": "2023-11-28T19:18:04.546141",
     "exception": false,
     "start_time": "2023-11-28T19:18:04.507989",
     "status": "completed"
    },
    "tags": []
   },
   "outputs": [
    {
     "data": {
      "text/plain": [
       "SN    148\n",
       "BY    148\n",
       "TH    148\n",
       "NW    148\n",
       "BE    148\n",
       "RP    148\n",
       "BW    148\n",
       "NI    148\n",
       "SH    148\n",
       "HE    148\n",
       "ST    148\n",
       "HH    148\n",
       "SL    148\n",
       "Name: State, dtype: int64"
      ]
     },
     "execution_count": 29,
     "metadata": {},
     "output_type": "execute_result"
    }
   ],
   "source": [
    "googletrend['State'].value_counts()"
   ]
  },
  {
   "cell_type": "code",
   "execution_count": 30,
   "id": "b02b0793",
   "metadata": {
    "execution": {
     "iopub.execute_input": "2023-11-28T19:18:04.596906Z",
     "iopub.status.busy": "2023-11-28T19:18:04.596507Z",
     "iopub.status.idle": "2023-11-28T19:18:04.605248Z",
     "shell.execute_reply": "2023-11-28T19:18:04.603915Z"
    },
    "papermill": {
     "duration": 0.037122,
     "end_time": "2023-11-28T19:18:04.608007",
     "exception": false,
     "start_time": "2023-11-28T19:18:04.570885",
     "status": "completed"
    },
    "tags": []
   },
   "outputs": [
    {
     "data": {
      "text/plain": [
       "0        BW\n",
       "1        BY\n",
       "2        BE\n",
       "3        BB\n",
       "4        HB\n",
       "5        HH\n",
       "6        HE\n",
       "7        MV\n",
       "8     HB,NI\n",
       "9        NW\n",
       "10       RP\n",
       "11       SL\n",
       "12       SN\n",
       "13       ST\n",
       "14       SH\n",
       "15       TH\n",
       "Name: State, dtype: object"
      ]
     },
     "execution_count": 30,
     "metadata": {},
     "output_type": "execute_result"
    }
   ],
   "source": [
    "# Notar que un estado tiene un acrónimo diferente\n",
    "state_names['State']"
   ]
  },
  {
   "cell_type": "code",
   "execution_count": 31,
   "id": "3adfd72c",
   "metadata": {
    "execution": {
     "iopub.execute_input": "2023-11-28T19:18:04.655654Z",
     "iopub.status.busy": "2023-11-28T19:18:04.655191Z",
     "iopub.status.idle": "2023-11-28T19:18:04.663738Z",
     "shell.execute_reply": "2023-11-28T19:18:04.662537Z"
    },
    "papermill": {
     "duration": 0.035743,
     "end_time": "2023-11-28T19:18:04.666492",
     "exception": false,
     "start_time": "2023-11-28T19:18:04.630749",
     "status": "completed"
    },
    "tags": []
   },
   "outputs": [],
   "source": [
    "# Lo corrijo\n",
    "googletrend.loc[googletrend.State=='NI', \"State\"] = 'HB,NI'"
   ]
  },
  {
   "cell_type": "markdown",
   "id": "0dfb7ec8",
   "metadata": {
    "papermill": {
     "duration": 0.021909,
     "end_time": "2023-11-28T19:18:04.711614",
     "exception": false,
     "start_time": "2023-11-28T19:18:04.689705",
     "status": "completed"
    },
    "tags": []
   },
   "source": [
    "# Transformo fecha"
   ]
  },
  {
   "cell_type": "code",
   "execution_count": 32,
   "id": "c7ee3a06",
   "metadata": {
    "execution": {
     "iopub.execute_input": "2023-11-28T19:18:04.759357Z",
     "iopub.status.busy": "2023-11-28T19:18:04.758152Z",
     "iopub.status.idle": "2023-11-28T19:18:05.389428Z",
     "shell.execute_reply": "2023-11-28T19:18:05.387864Z"
    },
    "papermill": {
     "duration": 0.658541,
     "end_time": "2023-11-28T19:18:05.392516",
     "exception": false,
     "start_time": "2023-11-28T19:18:04.733975",
     "status": "completed"
    },
    "tags": []
   },
   "outputs": [],
   "source": [
    "def add_datepart(df):\n",
    "    df.Date = pd.to_datetime(df.Date)\n",
    "    df[\"Year\"] = df.Date.dt.year\n",
    "    df[\"Month\"] = df.Date.dt.month\n",
    "    df[\"Week\"] = df.Date.dt.isocalendar().week\n",
    "    df[\"Day\"] = df.Date.dt.day\n",
    "    \n",
    "add_datepart(weather)\n",
    "add_datepart(googletrend)\n",
    "add_datepart(train)\n",
    "add_datepart(test)"
   ]
  },
  {
   "cell_type": "code",
   "execution_count": 33,
   "id": "a1e9603f",
   "metadata": {
    "execution": {
     "iopub.execute_input": "2023-11-28T19:18:05.438869Z",
     "iopub.status.busy": "2023-11-28T19:18:05.438437Z",
     "iopub.status.idle": "2023-11-28T19:18:05.447438Z",
     "shell.execute_reply": "2023-11-28T19:18:05.446577Z"
    },
    "papermill": {
     "duration": 0.034828,
     "end_time": "2023-11-28T19:18:05.449781",
     "exception": false,
     "start_time": "2023-11-28T19:18:05.414953",
     "status": "completed"
    },
    "tags": []
   },
   "outputs": [],
   "source": [
    "# Trends generales de alemania tienen el state en None\n",
    "trend_de = googletrend[googletrend.file == 'Rossmann_DE']"
   ]
  },
  {
   "cell_type": "code",
   "execution_count": 34,
   "id": "221f618f",
   "metadata": {
    "execution": {
     "iopub.execute_input": "2023-11-28T19:18:05.497148Z",
     "iopub.status.busy": "2023-11-28T19:18:05.496516Z",
     "iopub.status.idle": "2023-11-28T19:18:05.516728Z",
     "shell.execute_reply": "2023-11-28T19:18:05.515562Z"
    },
    "papermill": {
     "duration": 0.046938,
     "end_time": "2023-11-28T19:18:05.519353",
     "exception": false,
     "start_time": "2023-11-28T19:18:05.472415",
     "status": "completed"
    },
    "tags": []
   },
   "outputs": [
    {
     "data": {
      "text/html": [
       "<div>\n",
       "<style scoped>\n",
       "    .dataframe tbody tr th:only-of-type {\n",
       "        vertical-align: middle;\n",
       "    }\n",
       "\n",
       "    .dataframe tbody tr th {\n",
       "        vertical-align: top;\n",
       "    }\n",
       "\n",
       "    .dataframe thead th {\n",
       "        text-align: right;\n",
       "    }\n",
       "</style>\n",
       "<table border=\"1\" class=\"dataframe\">\n",
       "  <thead>\n",
       "    <tr style=\"text-align: right;\">\n",
       "      <th></th>\n",
       "      <th>Date</th>\n",
       "      <th>Year</th>\n",
       "      <th>Month</th>\n",
       "      <th>Week</th>\n",
       "      <th>Day</th>\n",
       "    </tr>\n",
       "  </thead>\n",
       "  <tbody>\n",
       "    <tr>\n",
       "      <th>148</th>\n",
       "      <td>2012-12-02</td>\n",
       "      <td>2012</td>\n",
       "      <td>12</td>\n",
       "      <td>48</td>\n",
       "      <td>2</td>\n",
       "    </tr>\n",
       "    <tr>\n",
       "      <th>149</th>\n",
       "      <td>2012-12-09</td>\n",
       "      <td>2012</td>\n",
       "      <td>12</td>\n",
       "      <td>49</td>\n",
       "      <td>9</td>\n",
       "    </tr>\n",
       "    <tr>\n",
       "      <th>150</th>\n",
       "      <td>2012-12-16</td>\n",
       "      <td>2012</td>\n",
       "      <td>12</td>\n",
       "      <td>50</td>\n",
       "      <td>16</td>\n",
       "    </tr>\n",
       "    <tr>\n",
       "      <th>151</th>\n",
       "      <td>2012-12-23</td>\n",
       "      <td>2012</td>\n",
       "      <td>12</td>\n",
       "      <td>51</td>\n",
       "      <td>23</td>\n",
       "    </tr>\n",
       "    <tr>\n",
       "      <th>152</th>\n",
       "      <td>2012-12-30</td>\n",
       "      <td>2012</td>\n",
       "      <td>12</td>\n",
       "      <td>52</td>\n",
       "      <td>30</td>\n",
       "    </tr>\n",
       "    <tr>\n",
       "      <th>...</th>\n",
       "      <td>...</td>\n",
       "      <td>...</td>\n",
       "      <td>...</td>\n",
       "      <td>...</td>\n",
       "      <td>...</td>\n",
       "    </tr>\n",
       "    <tr>\n",
       "      <th>291</th>\n",
       "      <td>2015-08-30</td>\n",
       "      <td>2015</td>\n",
       "      <td>8</td>\n",
       "      <td>35</td>\n",
       "      <td>30</td>\n",
       "    </tr>\n",
       "    <tr>\n",
       "      <th>292</th>\n",
       "      <td>2015-09-06</td>\n",
       "      <td>2015</td>\n",
       "      <td>9</td>\n",
       "      <td>36</td>\n",
       "      <td>6</td>\n",
       "    </tr>\n",
       "    <tr>\n",
       "      <th>293</th>\n",
       "      <td>2015-09-13</td>\n",
       "      <td>2015</td>\n",
       "      <td>9</td>\n",
       "      <td>37</td>\n",
       "      <td>13</td>\n",
       "    </tr>\n",
       "    <tr>\n",
       "      <th>294</th>\n",
       "      <td>2015-09-20</td>\n",
       "      <td>2015</td>\n",
       "      <td>9</td>\n",
       "      <td>38</td>\n",
       "      <td>20</td>\n",
       "    </tr>\n",
       "    <tr>\n",
       "      <th>295</th>\n",
       "      <td>2015-09-27</td>\n",
       "      <td>2015</td>\n",
       "      <td>9</td>\n",
       "      <td>39</td>\n",
       "      <td>27</td>\n",
       "    </tr>\n",
       "  </tbody>\n",
       "</table>\n",
       "<p>148 rows × 5 columns</p>\n",
       "</div>"
      ],
      "text/plain": [
       "          Date  Year  Month  Week  Day\n",
       "148 2012-12-02  2012     12    48    2\n",
       "149 2012-12-09  2012     12    49    9\n",
       "150 2012-12-16  2012     12    50   16\n",
       "151 2012-12-23  2012     12    51   23\n",
       "152 2012-12-30  2012     12    52   30\n",
       "..         ...   ...    ...   ...  ...\n",
       "291 2015-08-30  2015      8    35   30\n",
       "292 2015-09-06  2015      9    36    6\n",
       "293 2015-09-13  2015      9    37   13\n",
       "294 2015-09-20  2015      9    38   20\n",
       "295 2015-09-27  2015      9    39   27\n",
       "\n",
       "[148 rows x 5 columns]"
      ]
     },
     "execution_count": 34,
     "metadata": {},
     "output_type": "execute_result"
    }
   ],
   "source": [
    "trend_de[['Date', 'Year','Month','Week','Day']]"
   ]
  },
  {
   "cell_type": "markdown",
   "id": "9528761c",
   "metadata": {
    "papermill": {
     "duration": 0.024221,
     "end_time": "2023-11-28T19:18:05.566937",
     "exception": false,
     "start_time": "2023-11-28T19:18:05.542716",
     "status": "completed"
    },
    "tags": []
   },
   "source": [
    "# Hago todo el resto de los joins"
   ]
  },
  {
   "cell_type": "code",
   "execution_count": 35,
   "id": "e0c969ae",
   "metadata": {
    "execution": {
     "iopub.execute_input": "2023-11-28T19:18:05.614964Z",
     "iopub.status.busy": "2023-11-28T19:18:05.613728Z",
     "iopub.status.idle": "2023-11-28T19:18:05.626702Z",
     "shell.execute_reply": "2023-11-28T19:18:05.625609Z"
    },
    "papermill": {
     "duration": 0.039356,
     "end_time": "2023-11-28T19:18:05.629231",
     "exception": false,
     "start_time": "2023-11-28T19:18:05.589875",
     "status": "completed"
    },
    "tags": []
   },
   "outputs": [
    {
     "data": {
      "text/plain": [
       "0"
      ]
     },
     "execution_count": 35,
     "metadata": {},
     "output_type": "execute_result"
    }
   ],
   "source": [
    "# Agrego acronimo de state al store\n",
    "store = join_df(store, store_states, \"Store\")\n",
    "len(store[store.State.isnull()])"
   ]
  },
  {
   "cell_type": "code",
   "execution_count": 36,
   "id": "eb9f3b51",
   "metadata": {
    "execution": {
     "iopub.execute_input": "2023-11-28T19:18:05.677935Z",
     "iopub.status.busy": "2023-11-28T19:18:05.677196Z",
     "iopub.status.idle": "2023-11-28T19:18:05.684979Z",
     "shell.execute_reply": "2023-11-28T19:18:05.683640Z"
    },
    "papermill": {
     "duration": 0.034943,
     "end_time": "2023-11-28T19:18:05.687389",
     "exception": false,
     "start_time": "2023-11-28T19:18:05.652446",
     "status": "completed"
    },
    "tags": []
   },
   "outputs": [
    {
     "data": {
      "text/plain": [
       "Index(['Store', 'StoreType', 'Assortment', 'CompetitionDistance',\n",
       "       'CompetitionOpenSinceMonth', 'CompetitionOpenSinceYear', 'Promo2',\n",
       "       'Promo2SinceWeek', 'Promo2SinceYear', 'PromoInterval',\n",
       "       'CompetitionOpenSince', 'Promo2Since', 'State'],\n",
       "      dtype='object')"
      ]
     },
     "execution_count": 36,
     "metadata": {},
     "output_type": "execute_result"
    }
   ],
   "source": [
    "store.columns"
   ]
  },
  {
   "cell_type": "code",
   "execution_count": 37,
   "id": "4f55c31e",
   "metadata": {
    "execution": {
     "iopub.execute_input": "2023-11-28T19:18:05.735472Z",
     "iopub.status.busy": "2023-11-28T19:18:05.734760Z",
     "iopub.status.idle": "2023-11-28T19:18:06.176109Z",
     "shell.execute_reply": "2023-11-28T19:18:06.175059Z"
    },
    "papermill": {
     "duration": 0.468308,
     "end_time": "2023-11-28T19:18:06.178596",
     "exception": false,
     "start_time": "2023-11-28T19:18:05.710288",
     "status": "completed"
    },
    "tags": []
   },
   "outputs": [
    {
     "data": {
      "text/plain": [
       "0"
      ]
     },
     "execution_count": 37,
     "metadata": {},
     "output_type": "execute_result"
    }
   ],
   "source": [
    "# Mergeo train y store\n",
    "joined_train = join_df(train, store, \"Store\")\n",
    "len(joined_train[joined_train.StoreType.isnull()])"
   ]
  },
  {
   "cell_type": "code",
   "execution_count": 38,
   "id": "e3506c54",
   "metadata": {
    "execution": {
     "iopub.execute_input": "2023-11-28T19:18:06.227451Z",
     "iopub.status.busy": "2023-11-28T19:18:06.226987Z",
     "iopub.status.idle": "2023-11-28T19:18:06.234928Z",
     "shell.execute_reply": "2023-11-28T19:18:06.233444Z"
    },
    "papermill": {
     "duration": 0.035154,
     "end_time": "2023-11-28T19:18:06.237644",
     "exception": false,
     "start_time": "2023-11-28T19:18:06.202490",
     "status": "completed"
    },
    "tags": []
   },
   "outputs": [
    {
     "data": {
      "text/plain": [
       "Index(['Store', 'DayOfWeek', 'Date', 'Sales', 'Customers', 'Open', 'Promo',\n",
       "       'StateHoliday', 'SchoolHoliday', 'Year', 'Month', 'Week', 'Day',\n",
       "       'StoreType', 'Assortment', 'CompetitionDistance',\n",
       "       'CompetitionOpenSinceMonth', 'CompetitionOpenSinceYear', 'Promo2',\n",
       "       'Promo2SinceWeek', 'Promo2SinceYear', 'PromoInterval',\n",
       "       'CompetitionOpenSince', 'Promo2Since', 'State'],\n",
       "      dtype='object')"
      ]
     },
     "execution_count": 38,
     "metadata": {},
     "output_type": "execute_result"
    }
   ],
   "source": [
    "joined_train.columns"
   ]
  },
  {
   "cell_type": "code",
   "execution_count": 39,
   "id": "8d241234",
   "metadata": {
    "execution": {
     "iopub.execute_input": "2023-11-28T19:18:06.287396Z",
     "iopub.status.busy": "2023-11-28T19:18:06.286719Z",
     "iopub.status.idle": "2023-11-28T19:18:06.315378Z",
     "shell.execute_reply": "2023-11-28T19:18:06.314215Z"
    },
    "papermill": {
     "duration": 0.056568,
     "end_time": "2023-11-28T19:18:06.318269",
     "exception": false,
     "start_time": "2023-11-28T19:18:06.261701",
     "status": "completed"
    },
    "tags": []
   },
   "outputs": [
    {
     "data": {
      "text/plain": [
       "0"
      ]
     },
     "execution_count": 39,
     "metadata": {},
     "output_type": "execute_result"
    }
   ],
   "source": [
    "# Mergeo test y store\n",
    "joined_test = join_df(test, store, \"Store\")\n",
    "len(joined_test[joined_test.StoreType.isnull()])"
   ]
  },
  {
   "cell_type": "code",
   "execution_count": 40,
   "id": "793b4e5c",
   "metadata": {
    "execution": {
     "iopub.execute_input": "2023-11-28T19:18:06.368828Z",
     "iopub.status.busy": "2023-11-28T19:18:06.367991Z",
     "iopub.status.idle": "2023-11-28T19:18:06.867790Z",
     "shell.execute_reply": "2023-11-28T19:18:06.866971Z"
    },
    "papermill": {
     "duration": 0.527504,
     "end_time": "2023-11-28T19:18:06.870124",
     "exception": false,
     "start_time": "2023-11-28T19:18:06.342620",
     "status": "completed"
    },
    "tags": []
   },
   "outputs": [
    {
     "data": {
      "text/plain": [
       "0"
      ]
     },
     "execution_count": 40,
     "metadata": {},
     "output_type": "execute_result"
    }
   ],
   "source": [
    "# Mergeo con googletrend\n",
    "joined_train = join_df(joined_train, googletrend, [\"State\",\"Year\", \"Week\"])\n",
    "len(joined_train[joined_train.trend.isnull()])"
   ]
  },
  {
   "cell_type": "code",
   "execution_count": 41,
   "id": "e857ce95",
   "metadata": {
    "execution": {
     "iopub.execute_input": "2023-11-28T19:18:06.920486Z",
     "iopub.status.busy": "2023-11-28T19:18:06.920037Z",
     "iopub.status.idle": "2023-11-28T19:18:06.950402Z",
     "shell.execute_reply": "2023-11-28T19:18:06.949266Z"
    },
    "papermill": {
     "duration": 0.058295,
     "end_time": "2023-11-28T19:18:06.952763",
     "exception": false,
     "start_time": "2023-11-28T19:18:06.894468",
     "status": "completed"
    },
    "tags": []
   },
   "outputs": [
    {
     "data": {
      "text/plain": [
       "0"
      ]
     },
     "execution_count": 41,
     "metadata": {},
     "output_type": "execute_result"
    }
   ],
   "source": [
    "joined_test = join_df(joined_test, googletrend, [\"State\",\"Year\", \"Week\"])\n",
    "len(joined_test[joined_test.trend.isnull()])"
   ]
  },
  {
   "cell_type": "code",
   "execution_count": 42,
   "id": "83ba37be",
   "metadata": {
    "execution": {
     "iopub.execute_input": "2023-11-28T19:18:07.002060Z",
     "iopub.status.busy": "2023-11-28T19:18:07.001643Z",
     "iopub.status.idle": "2023-11-28T19:18:07.373602Z",
     "shell.execute_reply": "2023-11-28T19:18:07.372233Z"
    },
    "papermill": {
     "duration": 0.399706,
     "end_time": "2023-11-28T19:18:07.376204",
     "exception": false,
     "start_time": "2023-11-28T19:18:06.976498",
     "status": "completed"
    },
    "tags": []
   },
   "outputs": [
    {
     "data": {
      "text/plain": [
       "0"
      ]
     },
     "execution_count": 42,
     "metadata": {},
     "output_type": "execute_result"
    }
   ],
   "source": [
    "joined_train = joined_train.merge(trend_de, 'left', [\"Year\", \"Week\"], suffixes=('', '_DE'))\n",
    "len(joined_train[joined_train.trend_DE.isnull()])"
   ]
  },
  {
   "cell_type": "code",
   "execution_count": 43,
   "id": "66e6bee5",
   "metadata": {
    "execution": {
     "iopub.execute_input": "2023-11-28T19:18:07.426711Z",
     "iopub.status.busy": "2023-11-28T19:18:07.426238Z",
     "iopub.status.idle": "2023-11-28T19:18:07.452127Z",
     "shell.execute_reply": "2023-11-28T19:18:07.451026Z"
    },
    "papermill": {
     "duration": 0.054991,
     "end_time": "2023-11-28T19:18:07.455245",
     "exception": false,
     "start_time": "2023-11-28T19:18:07.400254",
     "status": "completed"
    },
    "tags": []
   },
   "outputs": [
    {
     "data": {
      "text/plain": [
       "0"
      ]
     },
     "execution_count": 43,
     "metadata": {},
     "output_type": "execute_result"
    }
   ],
   "source": [
    "joined_test = joined_test.merge(trend_de, 'left', [\"Year\", \"Week\"], suffixes=('', '_DE'))\n",
    "len(joined_test[joined_test.trend_DE.isnull()])"
   ]
  },
  {
   "cell_type": "code",
   "execution_count": 44,
   "id": "25696f31",
   "metadata": {
    "execution": {
     "iopub.execute_input": "2023-11-28T19:18:07.506124Z",
     "iopub.status.busy": "2023-11-28T19:18:07.505712Z",
     "iopub.status.idle": "2023-11-28T19:18:08.263840Z",
     "shell.execute_reply": "2023-11-28T19:18:08.262650Z"
    },
    "papermill": {
     "duration": 0.786718,
     "end_time": "2023-11-28T19:18:08.266426",
     "exception": false,
     "start_time": "2023-11-28T19:18:07.479708",
     "status": "completed"
    },
    "tags": []
   },
   "outputs": [
    {
     "data": {
      "text/plain": [
       "0"
      ]
     },
     "execution_count": 44,
     "metadata": {},
     "output_type": "execute_result"
    }
   ],
   "source": [
    "joined_train = join_df(joined_train, weather, [\"State\",\"Date\"])\n",
    "len(joined_train[joined_train.Mean_TemperatureC.isnull()])"
   ]
  },
  {
   "cell_type": "code",
   "execution_count": 45,
   "id": "22c2b8c5",
   "metadata": {
    "execution": {
     "iopub.execute_input": "2023-11-28T19:18:08.316703Z",
     "iopub.status.busy": "2023-11-28T19:18:08.315989Z",
     "iopub.status.idle": "2023-11-28T19:18:08.361038Z",
     "shell.execute_reply": "2023-11-28T19:18:08.359940Z"
    },
    "papermill": {
     "duration": 0.073021,
     "end_time": "2023-11-28T19:18:08.363653",
     "exception": false,
     "start_time": "2023-11-28T19:18:08.290632",
     "status": "completed"
    },
    "tags": []
   },
   "outputs": [
    {
     "data": {
      "text/plain": [
       "0"
      ]
     },
     "execution_count": 45,
     "metadata": {},
     "output_type": "execute_result"
    }
   ],
   "source": [
    "joined_test = join_df(joined_test, weather, [\"State\",\"Date\"])\n",
    "len(joined_test[joined_test.Mean_TemperatureC.isnull()])"
   ]
  },
  {
   "cell_type": "code",
   "execution_count": 46,
   "id": "7af9ab26",
   "metadata": {
    "execution": {
     "iopub.execute_input": "2023-11-28T19:18:08.414718Z",
     "iopub.status.busy": "2023-11-28T19:18:08.413975Z",
     "iopub.status.idle": "2023-11-28T19:18:08.421747Z",
     "shell.execute_reply": "2023-11-28T19:18:08.420585Z"
    },
    "papermill": {
     "duration": 0.036081,
     "end_time": "2023-11-28T19:18:08.424241",
     "exception": false,
     "start_time": "2023-11-28T19:18:08.388160",
     "status": "completed"
    },
    "tags": []
   },
   "outputs": [
    {
     "data": {
      "text/plain": [
       "Index(['Store', 'DayOfWeek', 'Date', 'Sales', 'Customers', 'Open', 'Promo',\n",
       "       'StateHoliday', 'SchoolHoliday', 'Year', 'Month', 'Week', 'Day',\n",
       "       'StoreType', 'Assortment', 'CompetitionDistance',\n",
       "       'CompetitionOpenSinceMonth', 'CompetitionOpenSinceYear', 'Promo2',\n",
       "       'Promo2SinceWeek', 'Promo2SinceYear', 'PromoInterval',\n",
       "       'CompetitionOpenSince', 'Promo2Since', 'State', 'file', 'week', 'trend',\n",
       "       'Date_y', 'Month_y', 'Day_y', 'file_DE', 'week_DE', 'trend_DE',\n",
       "       'Date_DE', 'State_DE', 'Month_DE', 'Day_DE', 'file_y',\n",
       "       'Max_TemperatureC', 'Mean_TemperatureC', 'Min_TemperatureC',\n",
       "       'Dew_PointC', 'MeanDew_PointC', 'Min_DewpointC', 'Max_Humidity',\n",
       "       'Mean_Humidity', 'Min_Humidity', 'Max_Sea_Level_PressurehPa',\n",
       "       'Mean_Sea_Level_PressurehPa', 'Min_Sea_Level_PressurehPa',\n",
       "       'Max_VisibilityKm', 'Mean_VisibilityKm', 'Min_VisibilitykM',\n",
       "       'Max_Wind_SpeedKm_h', 'Mean_Wind_SpeedKm_h', 'Max_Gust_SpeedKm_h',\n",
       "       'Precipitationmm', 'CloudCover', 'Events', 'WindDirDegrees',\n",
       "       'StateName', 'Year_y', 'Month_y', 'Week_y', 'Day_y'],\n",
       "      dtype='object')"
      ]
     },
     "execution_count": 46,
     "metadata": {},
     "output_type": "execute_result"
    }
   ],
   "source": [
    "joined_train.columns"
   ]
  },
  {
   "cell_type": "markdown",
   "id": "6aa8ec35",
   "metadata": {
    "papermill": {
     "duration": 0.024288,
     "end_time": "2023-11-28T19:18:08.473091",
     "exception": false,
     "start_time": "2023-11-28T19:18:08.448803",
     "status": "completed"
    },
    "tags": []
   },
   "source": [
    "##  CompetitionOpenSince en dias guardada en CompetitionDaysOpen"
   ]
  },
  {
   "cell_type": "code",
   "execution_count": 47,
   "id": "1fa6b238",
   "metadata": {
    "execution": {
     "iopub.execute_input": "2023-11-28T19:18:08.524286Z",
     "iopub.status.busy": "2023-11-28T19:18:08.523862Z",
     "iopub.status.idle": "2023-11-28T19:18:08.562533Z",
     "shell.execute_reply": "2023-11-28T19:18:08.561066Z"
    },
    "papermill": {
     "duration": 0.067823,
     "end_time": "2023-11-28T19:18:08.565487",
     "exception": false,
     "start_time": "2023-11-28T19:18:08.497664",
     "status": "completed"
    },
    "tags": []
   },
   "outputs": [
    {
     "data": {
      "text/plain": [
       "0    2510\n",
       "1    2815\n",
       "2    3150\n",
       "3    2145\n",
       "4     107\n",
       "5     593\n",
       "6     837\n",
       "7     289\n",
       "8    5463\n",
       "9    2145\n",
       "Name: CompetitionDaysOpen, dtype: int64"
      ]
     },
     "execution_count": 47,
     "metadata": {},
     "output_type": "execute_result"
    }
   ],
   "source": [
    "joined_train[\"CompetitionDaysOpen\"] = joined_train.Date.subtract(joined_train[\"CompetitionOpenSince\"]).dt.days\n",
    "joined_train[\"CompetitionDaysOpen\"][:10]"
   ]
  },
  {
   "cell_type": "code",
   "execution_count": 48,
   "id": "cd82a918",
   "metadata": {
    "execution": {
     "iopub.execute_input": "2023-11-28T19:18:08.619271Z",
     "iopub.status.busy": "2023-11-28T19:18:08.618553Z",
     "iopub.status.idle": "2023-11-28T19:18:08.629982Z",
     "shell.execute_reply": "2023-11-28T19:18:08.628827Z"
    },
    "papermill": {
     "duration": 0.040079,
     "end_time": "2023-11-28T19:18:08.632345",
     "exception": false,
     "start_time": "2023-11-28T19:18:08.592266",
     "status": "completed"
    },
    "tags": []
   },
   "outputs": [
    {
     "data": {
      "text/plain": [
       "0    2558\n",
       "1    3198\n",
       "2     885\n",
       "3     337\n",
       "4    5511\n",
       "5    2193\n",
       "6    1402\n",
       "7    9376\n",
       "8    9376\n",
       "9     551\n",
       "Name: CompetitionDaysOpen, dtype: int64"
      ]
     },
     "execution_count": 48,
     "metadata": {},
     "output_type": "execute_result"
    }
   ],
   "source": [
    "joined_test[\"CompetitionDaysOpen\"] = joined_test.Date.subtract(joined_test[\"CompetitionOpenSince\"]).dt.days\n",
    "joined_test[\"CompetitionDaysOpen\"][:10]"
   ]
  },
  {
   "cell_type": "code",
   "execution_count": 49,
   "id": "3e96269f",
   "metadata": {
    "execution": {
     "iopub.execute_input": "2023-11-28T19:18:08.684027Z",
     "iopub.status.busy": "2023-11-28T19:18:08.683606Z",
     "iopub.status.idle": "2023-11-28T19:18:08.696606Z",
     "shell.execute_reply": "2023-11-28T19:18:08.695736Z"
    },
    "papermill": {
     "duration": 0.041211,
     "end_time": "2023-11-28T19:18:08.698982",
     "exception": false,
     "start_time": "2023-11-28T19:18:08.657771",
     "status": "completed"
    },
    "tags": []
   },
   "outputs": [],
   "source": [
    "# Corrige errores de la formula anterior\n",
    "joined_train.loc[joined_train.CompetitionDaysOpen<0, \"CompetitionDaysOpen\"] = 0\n",
    "joined_train.loc[joined_train.CompetitionOpenSinceYear<1990, \"CompetitionDaysOpen\"] = 0"
   ]
  },
  {
   "cell_type": "code",
   "execution_count": 50,
   "id": "287f2371",
   "metadata": {
    "execution": {
     "iopub.execute_input": "2023-11-28T19:18:08.752670Z",
     "iopub.status.busy": "2023-11-28T19:18:08.751887Z",
     "iopub.status.idle": "2023-11-28T19:18:08.759008Z",
     "shell.execute_reply": "2023-11-28T19:18:08.757820Z"
    },
    "papermill": {
     "duration": 0.036507,
     "end_time": "2023-11-28T19:18:08.762022",
     "exception": false,
     "start_time": "2023-11-28T19:18:08.725515",
     "status": "completed"
    },
    "tags": []
   },
   "outputs": [],
   "source": [
    "# Corrige errores de la formula anterior\n",
    "joined_test.loc[joined_test.CompetitionDaysOpen<0, \"CompetitionDaysOpen\"] = 0\n",
    "joined_test.loc[joined_test.CompetitionOpenSinceYear<1990, \"CompetitionDaysOpen\"] = 0"
   ]
  },
  {
   "cell_type": "code",
   "execution_count": 51,
   "id": "94548d7a",
   "metadata": {
    "execution": {
     "iopub.execute_input": "2023-11-28T19:18:08.814971Z",
     "iopub.status.busy": "2023-11-28T19:18:08.814546Z",
     "iopub.status.idle": "2023-11-28T19:18:08.845023Z",
     "shell.execute_reply": "2023-11-28T19:18:08.843944Z"
    },
    "papermill": {
     "duration": 0.059834,
     "end_time": "2023-11-28T19:18:08.847510",
     "exception": false,
     "start_time": "2023-11-28T19:18:08.787676",
     "status": "completed"
    },
    "tags": []
   },
   "outputs": [
    {
     "data": {
      "text/plain": [
       "24    790886\n",
       "0      92590\n",
       "6       6356\n",
       "7       6350\n",
       "4       6278\n",
       "5       6261\n",
       "8       6203\n",
       "9       6138\n",
       "10      6118\n",
       "11      5971\n",
       "12      5867\n",
       "3       5850\n",
       "13      5724\n",
       "15      5699\n",
       "14      5655\n",
       "19      5649\n",
       "2       5621\n",
       "18      5619\n",
       "16      5618\n",
       "22      5558\n",
       "17      5549\n",
       "20      5500\n",
       "1       5482\n",
       "21      5398\n",
       "23      5269\n",
       "Name: CompetitionMonthsOpen, dtype: int64"
      ]
     },
     "execution_count": 51,
     "metadata": {},
     "output_type": "execute_result"
    }
   ],
   "source": [
    "# Lo pone en meses y limita a 2 años como máximo\n",
    "joined_train[\"CompetitionMonthsOpen\"] = joined_train[\"CompetitionDaysOpen\"]//30\n",
    "joined_train.loc[joined_train.CompetitionMonthsOpen>24, \"CompetitionMonthsOpen\"] = 24\n",
    "joined_train.CompetitionMonthsOpen.value_counts()"
   ]
  },
  {
   "cell_type": "code",
   "execution_count": 52,
   "id": "974b703d",
   "metadata": {
    "execution": {
     "iopub.execute_input": "2023-11-28T19:18:08.899485Z",
     "iopub.status.busy": "2023-11-28T19:18:08.898829Z",
     "iopub.status.idle": "2023-11-28T19:18:08.911599Z",
     "shell.execute_reply": "2023-11-28T19:18:08.910503Z"
    },
    "papermill": {
     "duration": 0.041526,
     "end_time": "2023-11-28T19:18:08.913904",
     "exception": false,
     "start_time": "2023-11-28T19:18:08.872378",
     "status": "completed"
    },
    "tags": []
   },
   "outputs": [
    {
     "data": {
      "text/plain": [
       "24    36782\n",
       "23      346\n",
       "17      292\n",
       "16      287\n",
       "13      260\n",
       "1       257\n",
       "10      247\n",
       "11      246\n",
       "14      197\n",
       "0       179\n",
       "18      169\n",
       "12      164\n",
       "2       161\n",
       "8       161\n",
       "4       152\n",
       "5       151\n",
       "20      149\n",
       "21      148\n",
       "22      146\n",
       "3       141\n",
       "15      126\n",
       "9       125\n",
       "19       84\n",
       "7        60\n",
       "6        58\n",
       "Name: CompetitionMonthsOpen, dtype: int64"
      ]
     },
     "execution_count": 52,
     "metadata": {},
     "output_type": "execute_result"
    }
   ],
   "source": [
    "# Lo pone en meses y limita a 2 años como máximo\n",
    "joined_test[\"CompetitionMonthsOpen\"] = joined_test[\"CompetitionDaysOpen\"]//30\n",
    "joined_test.loc[joined_test.CompetitionMonthsOpen>24, \"CompetitionMonthsOpen\"] = 24\n",
    "joined_test.CompetitionMonthsOpen.value_counts()"
   ]
  },
  {
   "cell_type": "markdown",
   "id": "c197753d",
   "metadata": {
    "papermill": {
     "duration": 0.024885,
     "end_time": "2023-11-28T19:18:08.963704",
     "exception": false,
     "start_time": "2023-11-28T19:18:08.938819",
     "status": "completed"
    },
    "tags": []
   },
   "source": [
    "### Mismo proceso a promodates"
   ]
  },
  {
   "cell_type": "code",
   "execution_count": 53,
   "id": "595b53a2",
   "metadata": {
    "execution": {
     "iopub.execute_input": "2023-11-28T19:18:09.016095Z",
     "iopub.status.busy": "2023-11-28T19:18:09.015627Z",
     "iopub.status.idle": "2023-11-28T19:18:09.087486Z",
     "shell.execute_reply": "2023-11-28T19:18:09.085420Z"
    },
    "papermill": {
     "duration": 0.100959,
     "end_time": "2023-11-28T19:18:09.090037",
     "exception": false,
     "start_time": "2023-11-28T19:18:08.989078",
     "status": "completed"
    },
    "tags": []
   },
   "outputs": [
    {
     "data": {
      "text/plain": [
       "25    911602\n",
       "0      70849\n",
       "14      1659\n",
       "21      1659\n",
       "24      1659\n",
       "16      1659\n",
       "23      1659\n",
       "15      1659\n",
       "19      1659\n",
       "22      1659\n",
       "20      1659\n",
       "18      1652\n",
       "17      1633\n",
       "13      1514\n",
       "7       1267\n",
       "6       1267\n",
       "5       1263\n",
       "8       1261\n",
       "10      1260\n",
       "11      1260\n",
       "12      1260\n",
       "9       1258\n",
       "4       1236\n",
       "3       1232\n",
       "2       1232\n",
       "1       1232\n",
       "Name: Promo2Weeks, dtype: int64"
      ]
     },
     "execution_count": 53,
     "metadata": {},
     "output_type": "execute_result"
    }
   ],
   "source": [
    "joined_train[\"Promo2Days\"] = joined_train.Date.subtract(joined_train[\"Promo2Since\"]).dt.days\n",
    "joined_train.loc[joined_train.Promo2Days<0, \"Promo2Days\"] = 0\n",
    "joined_train.loc[joined_train.Promo2SinceYear<1990, \"Promo2Days\"] = 0\n",
    "joined_train[\"Promo2Weeks\"] = joined_train[\"Promo2Days\"]//7\n",
    "joined_train.loc[joined_train.Promo2Weeks<0, \"Promo2Weeks\"] = 0\n",
    "joined_train.loc[joined_train.Promo2Weeks>25, \"Promo2Weeks\"] = 25\n",
    "joined_train.Promo2Weeks.value_counts()"
   ]
  },
  {
   "cell_type": "code",
   "execution_count": 54,
   "id": "600f1fc4",
   "metadata": {
    "execution": {
     "iopub.execute_input": "2023-11-28T19:18:09.144598Z",
     "iopub.status.busy": "2023-11-28T19:18:09.143702Z",
     "iopub.status.idle": "2023-11-28T19:18:09.164803Z",
     "shell.execute_reply": "2023-11-28T19:18:09.163622Z"
    },
    "papermill": {
     "duration": 0.050865,
     "end_time": "2023-11-28T19:18:09.167462",
     "exception": false,
     "start_time": "2023-11-28T19:18:09.116597",
     "status": "completed"
    },
    "tags": []
   },
   "outputs": [
    {
     "data": {
      "text/plain": [
       "25    40704\n",
       "19       35\n",
       "18       35\n",
       "20       32\n",
       "23       28\n",
       "14       28\n",
       "22       28\n",
       "21       28\n",
       "13       23\n",
       "12       21\n",
       "11       21\n",
       "10       21\n",
       "9        21\n",
       "15       19\n",
       "24       16\n",
       "17       15\n",
       "16        7\n",
       "8         6\n",
       "Name: Promo2Weeks, dtype: int64"
      ]
     },
     "execution_count": 54,
     "metadata": {},
     "output_type": "execute_result"
    }
   ],
   "source": [
    "joined_test[\"Promo2Days\"] = joined_test.Date.subtract(joined_test[\"Promo2Since\"]).dt.days\n",
    "joined_test.loc[joined_test.Promo2Days<0, \"Promo2Days\"] = 0\n",
    "joined_test.loc[joined_test.Promo2SinceYear<1990, \"Promo2Days\"] = 0\n",
    "joined_test[\"Promo2Weeks\"] = joined_test[\"Promo2Days\"]//7\n",
    "joined_test.loc[joined_test.Promo2Weeks<0, \"Promo2Weeks\"] = 0\n",
    "joined_test.loc[joined_test.Promo2Weeks>25, \"Promo2Weeks\"] = 25\n",
    "joined_test.Promo2Weeks.value_counts()"
   ]
  },
  {
   "cell_type": "code",
   "execution_count": 55,
   "id": "59f45764",
   "metadata": {
    "execution": {
     "iopub.execute_input": "2023-11-28T19:18:09.221127Z",
     "iopub.status.busy": "2023-11-28T19:18:09.220731Z",
     "iopub.status.idle": "2023-11-28T19:18:09.228163Z",
     "shell.execute_reply": "2023-11-28T19:18:09.227223Z"
    },
    "papermill": {
     "duration": 0.036893,
     "end_time": "2023-11-28T19:18:09.230338",
     "exception": false,
     "start_time": "2023-11-28T19:18:09.193445",
     "status": "completed"
    },
    "tags": []
   },
   "outputs": [
    {
     "data": {
      "text/plain": [
       "((1017209, 70), (41088, 69))"
      ]
     },
     "execution_count": 55,
     "metadata": {},
     "output_type": "execute_result"
    }
   ],
   "source": [
    "joined_train.shape, joined_test.shape"
   ]
  },
  {
   "cell_type": "code",
   "execution_count": 56,
   "id": "648d0439",
   "metadata": {
    "execution": {
     "iopub.execute_input": "2023-11-28T19:18:09.284622Z",
     "iopub.status.busy": "2023-11-28T19:18:09.283416Z",
     "iopub.status.idle": "2023-11-28T19:18:09.671615Z",
     "shell.execute_reply": "2023-11-28T19:18:09.670270Z"
    },
    "papermill": {
     "duration": 0.418285,
     "end_time": "2023-11-28T19:18:09.674413",
     "exception": false,
     "start_time": "2023-11-28T19:18:09.256128",
     "status": "completed"
    },
    "tags": []
   },
   "outputs": [],
   "source": [
    "# Remove dup columns\n",
    "joined_train = joined_train.loc[:,~joined_train.columns.duplicated()]\n",
    "joined_test = joined_test.loc[:,~joined_test.columns.duplicated()]"
   ]
  },
  {
   "cell_type": "code",
   "execution_count": 57,
   "id": "0bc18125",
   "metadata": {
    "execution": {
     "iopub.execute_input": "2023-11-28T19:18:09.727950Z",
     "iopub.status.busy": "2023-11-28T19:18:09.727527Z",
     "iopub.status.idle": "2023-11-28T19:18:09.735055Z",
     "shell.execute_reply": "2023-11-28T19:18:09.733918Z"
    },
    "papermill": {
     "duration": 0.037694,
     "end_time": "2023-11-28T19:18:09.737811",
     "exception": false,
     "start_time": "2023-11-28T19:18:09.700117",
     "status": "completed"
    },
    "tags": []
   },
   "outputs": [
    {
     "data": {
      "text/plain": [
       "((1017209, 68), (41088, 67))"
      ]
     },
     "execution_count": 57,
     "metadata": {},
     "output_type": "execute_result"
    }
   ],
   "source": [
    "joined_train.shape, joined_test.shape"
   ]
  },
  {
   "cell_type": "code",
   "execution_count": 58,
   "id": "5a77ea38",
   "metadata": {
    "execution": {
     "iopub.execute_input": "2023-11-28T19:18:09.792028Z",
     "iopub.status.busy": "2023-11-28T19:18:09.791598Z",
     "iopub.status.idle": "2023-11-28T19:18:11.175998Z",
     "shell.execute_reply": "2023-11-28T19:18:11.174913Z"
    },
    "papermill": {
     "duration": 1.414421,
     "end_time": "2023-11-28T19:18:11.178876",
     "exception": false,
     "start_time": "2023-11-28T19:18:09.764455",
     "status": "completed"
    },
    "tags": []
   },
   "outputs": [
    {
     "name": "stdout",
     "output_type": "stream",
     "text": [
      "CPU times: total: 1.28 s\n",
      "Wall time: 1.56 s\n"
     ]
    }
   ],
   "source": [
    "%time joined_train.to_feather('joined_train_before_durations.fth')"
   ]
  },
  {
   "cell_type": "code",
   "execution_count": 59,
   "id": "90b2a15e",
   "metadata": {
    "execution": {
     "iopub.execute_input": "2023-11-28T19:18:11.236724Z",
     "iopub.status.busy": "2023-11-28T19:18:11.236255Z",
     "iopub.status.idle": "2023-11-28T19:18:11.318581Z",
     "shell.execute_reply": "2023-11-28T19:18:11.317415Z"
    },
    "papermill": {
     "duration": 0.113272,
     "end_time": "2023-11-28T19:18:11.321384",
     "exception": false,
     "start_time": "2023-11-28T19:18:11.208112",
     "status": "completed"
    },
    "tags": []
   },
   "outputs": [
    {
     "name": "stdout",
     "output_type": "stream",
     "text": [
      "CPU times: total: 46.9 ms\n",
      "Wall time: 99 ms\n"
     ]
    }
   ],
   "source": [
    "%time joined_test.to_feather('joined_test_before_durations.fth')"
   ]
  },
  {
   "cell_type": "code",
   "execution_count": 60,
   "id": "c16ab019",
   "metadata": {
    "execution": {
     "iopub.execute_input": "2023-11-28T19:18:11.381403Z",
     "iopub.status.busy": "2023-11-28T19:18:11.380954Z",
     "iopub.status.idle": "2023-11-28T19:18:11.388656Z",
     "shell.execute_reply": "2023-11-28T19:18:11.387544Z"
    },
    "papermill": {
     "duration": 0.039022,
     "end_time": "2023-11-28T19:18:11.391577",
     "exception": false,
     "start_time": "2023-11-28T19:18:11.352555",
     "status": "completed"
    },
    "tags": []
   },
   "outputs": [
    {
     "data": {
      "text/plain": [
       "{'Customers', 'Sales'}"
      ]
     },
     "execution_count": 60,
     "metadata": {},
     "output_type": "execute_result"
    }
   ],
   "source": [
    "set(joined_train.columns) - set(joined_test.columns)"
   ]
  },
  {
   "cell_type": "code",
   "execution_count": 61,
   "id": "acbedb39",
   "metadata": {
    "execution": {
     "iopub.execute_input": "2023-11-28T19:18:11.447580Z",
     "iopub.status.busy": "2023-11-28T19:18:11.446782Z",
     "iopub.status.idle": "2023-11-28T19:18:11.453511Z",
     "shell.execute_reply": "2023-11-28T19:18:11.452140Z"
    },
    "papermill": {
     "duration": 0.03783,
     "end_time": "2023-11-28T19:18:11.455913",
     "exception": false,
     "start_time": "2023-11-28T19:18:11.418083",
     "status": "completed"
    },
    "tags": []
   },
   "outputs": [
    {
     "name": "stdout",
     "output_type": "stream",
     "text": [
      "['file', 'Date', 'Max_TemperatureC', 'Mean_TemperatureC', 'Min_TemperatureC', 'Dew_PointC', 'MeanDew_PointC', 'Min_DewpointC', 'Max_Humidity', 'Mean_Humidity', 'Min_Humidity', 'Max_Sea_Level_PressurehPa', 'Mean_Sea_Level_PressurehPa', 'Min_Sea_Level_PressurehPa', 'Max_VisibilityKm', 'Mean_VisibilityKm', 'Min_VisibilitykM', 'Max_Wind_SpeedKm_h', 'Mean_Wind_SpeedKm_h', 'Max_Gust_SpeedKm_h', 'Precipitationmm', 'CloudCover', 'Events', 'WindDirDegrees', 'StateName', 'State', 'Year', 'Month', 'Week', 'Day']\n"
     ]
    }
   ],
   "source": [
    "print(list(weather.columns))"
   ]
  }
 ],
 "metadata": {
  "kaggle": {
   "accelerator": "none",
   "dataSources": [
    {
     "databundleVersionId": 860645,
     "sourceId": 4594,
     "sourceType": "competition"
    },
    {
     "datasetId": 3998739,
     "sourceId": 6960940,
     "sourceType": "datasetVersion"
    }
   ],
   "dockerImageVersionId": 30579,
   "isGpuEnabled": false,
   "isInternetEnabled": true,
   "language": "python",
   "sourceType": "notebook"
  },
  "kernelspec": {
   "display_name": "Python 3",
   "language": "python",
   "name": "python3"
  },
  "language_info": {
   "codemirror_mode": {
    "name": "ipython",
    "version": 3
   },
   "file_extension": ".py",
   "mimetype": "text/x-python",
   "name": "python",
   "nbconvert_exporter": "python",
   "pygments_lexer": "ipython3",
   "version": "3.10.4"
  },
  "papermill": {
   "default_parameters": {},
   "duration": 33.486952,
   "end_time": "2023-11-28T19:18:12.103813",
   "environment_variables": {},
   "exception": null,
   "input_path": "__notebook__.ipynb",
   "output_path": "__notebook__.ipynb",
   "parameters": {},
   "start_time": "2023-11-28T19:17:38.616861",
   "version": "2.4.0"
  }
 },
 "nbformat": 4,
 "nbformat_minor": 5
}
